{
 "cells": [
  {
   "cell_type": "code",
   "execution_count": 1,
   "id": "c9daaf3e-0a58-464f-b717-b8131540a18b",
   "metadata": {},
   "outputs": [],
   "source": [
    "#import necessary packages\n",
    "import pandas as pd\n",
    "import numpy as nm\n",
    "\n",
    "import matplotlib.pyplot as plt\n",
    "import seaborn as sns\n",
    "import scipy.stats as stats\n",
    "\n",
    "from sklearn.model_selection import train_test_split\n",
    "from sklearn.linear_model import LogisticRegression\n",
    "from sklearn.tree import DecisionTreeClassifier\n",
    "from sklearn.ensemble import RandomForestClassifier\n",
    "from sklearn.metrics import accuracy_score, classification_report, confusion_matrix\n",
    "from sklearn.preprocessing import StandardScaler\n",
    "\n",
    "#Ignoring warnings for cleaner output\n",
    "import warnings\n",
    "warnings.filterwarnings('ignore')\n",
    "\n",
    "pd.set_option('display.float_format', '{:.2f}'.format)"
   ]
  },
  {
   "cell_type": "markdown",
   "id": "3aa7b83a-0b22-469d-b3dc-53b1e054ce96",
   "metadata": {},
   "source": [
    "# 1) Data Cleaning"
   ]
  },
  {
   "cell_type": "code",
   "execution_count": 3,
   "id": "4e77d141-0979-43e0-92cc-2be06feb39d9",
   "metadata": {},
   "outputs": [],
   "source": [
    "#load the data\n",
    "df = pd.read_csv('gb_restaurant_project_data.csv')"
   ]
  },
  {
   "cell_type": "markdown",
   "id": "2b48d6c7-30fb-43b7-bfee-5798f18e81e2",
   "metadata": {},
   "source": [
    "## Step 1: Explore the data"
   ]
  },
  {
   "cell_type": "code",
   "execution_count": 5,
   "id": "11738d0b-dc4d-4662-95f5-ca713e4ea4af",
   "metadata": {},
   "outputs": [
    {
     "data": {
      "text/plain": [
       "(1000, 8)"
      ]
     },
     "execution_count": 5,
     "metadata": {},
     "output_type": "execute_result"
    }
   ],
   "source": [
    "#counting the rows and columns\n",
    "df.shape"
   ]
  },
  {
   "cell_type": "code",
   "execution_count": 6,
   "id": "647c7841-5aec-405c-94cb-e0a4b8eba165",
   "metadata": {},
   "outputs": [
    {
     "data": {
      "text/html": [
       "<div>\n",
       "<style scoped>\n",
       "    .dataframe tbody tr th:only-of-type {\n",
       "        vertical-align: middle;\n",
       "    }\n",
       "\n",
       "    .dataframe tbody tr th {\n",
       "        vertical-align: top;\n",
       "    }\n",
       "\n",
       "    .dataframe thead th {\n",
       "        text-align: right;\n",
       "    }\n",
       "</style>\n",
       "<table border=\"1\" class=\"dataframe\">\n",
       "  <thead>\n",
       "    <tr style=\"text-align: right;\">\n",
       "      <th></th>\n",
       "      <th>CustomerID</th>\n",
       "      <th>Total_Bill_Amt</th>\n",
       "      <th>Tip_Amount_UGX</th>\n",
       "      <th>Gender_Cat</th>\n",
       "      <th>Location_City</th>\n",
       "      <th>Meal_Type</th>\n",
       "      <th>Visit_Date</th>\n",
       "      <th>Party_Size</th>\n",
       "    </tr>\n",
       "  </thead>\n",
       "  <tbody>\n",
       "    <tr>\n",
       "      <th>0</th>\n",
       "      <td>CUST001</td>\n",
       "      <td>254831310.17</td>\n",
       "      <td>14875556.00</td>\n",
       "      <td>Male</td>\n",
       "      <td>Gulu</td>\n",
       "      <td>NaN</td>\n",
       "      <td>2024-10-17</td>\n",
       "      <td>4</td>\n",
       "    </tr>\n",
       "    <tr>\n",
       "      <th>1</th>\n",
       "      <td>CUST002</td>\n",
       "      <td>185510701.50</td>\n",
       "      <td>10245458.00</td>\n",
       "      <td>Male</td>\n",
       "      <td>Kampala</td>\n",
       "      <td>Vegetarian</td>\n",
       "      <td>2024-02-10</td>\n",
       "      <td>8</td>\n",
       "    </tr>\n",
       "    <tr>\n",
       "      <th>2</th>\n",
       "      <td>CUST003</td>\n",
       "      <td>274812484.37</td>\n",
       "      <td>22485573.00</td>\n",
       "      <td>Male</td>\n",
       "      <td>Entebbe</td>\n",
       "      <td>Non-Vegetarian</td>\n",
       "      <td>2024-02-13</td>\n",
       "      <td>6</td>\n",
       "    </tr>\n",
       "    <tr>\n",
       "      <th>3</th>\n",
       "      <td>CUST004</td>\n",
       "      <td>425710547.44</td>\n",
       "      <td>36323236.00</td>\n",
       "      <td>Male</td>\n",
       "      <td>Mbarara</td>\n",
       "      <td>NaN</td>\n",
       "      <td>2024-09-05</td>\n",
       "      <td>3</td>\n",
       "    </tr>\n",
       "    <tr>\n",
       "      <th>4</th>\n",
       "      <td>CUST005</td>\n",
       "      <td>176826324.55</td>\n",
       "      <td>9120579.00</td>\n",
       "      <td>Female</td>\n",
       "      <td>Entebbe</td>\n",
       "      <td>Kids Meal</td>\n",
       "      <td>2024-02-05</td>\n",
       "      <td>4</td>\n",
       "    </tr>\n",
       "  </tbody>\n",
       "</table>\n",
       "</div>"
      ],
      "text/plain": [
       "  CustomerID  Total_Bill_Amt  Tip_Amount_UGX Gender_Cat Location_City  \\\n",
       "0    CUST001    254831310.17     14875556.00       Male          Gulu   \n",
       "1    CUST002    185510701.50     10245458.00       Male       Kampala   \n",
       "2    CUST003    274812484.37     22485573.00       Male       Entebbe   \n",
       "3    CUST004    425710547.44     36323236.00       Male       Mbarara   \n",
       "4    CUST005    176826324.55      9120579.00     Female       Entebbe   \n",
       "\n",
       "        Meal_Type  Visit_Date  Party_Size  \n",
       "0             NaN  2024-10-17           4  \n",
       "1      Vegetarian  2024-02-10           8  \n",
       "2  Non-Vegetarian  2024-02-13           6  \n",
       "3             NaN  2024-09-05           3  \n",
       "4       Kids Meal  2024-02-05           4  "
      ]
     },
     "execution_count": 6,
     "metadata": {},
     "output_type": "execute_result"
    }
   ],
   "source": [
    "#displaying the first five rows\n",
    "df.head()"
   ]
  },
  {
   "cell_type": "code",
   "execution_count": 7,
   "id": "a6a414b5-3cb4-4478-85db-2f75df0d135e",
   "metadata": {},
   "outputs": [
    {
     "data": {
      "text/html": [
       "<div>\n",
       "<style scoped>\n",
       "    .dataframe tbody tr th:only-of-type {\n",
       "        vertical-align: middle;\n",
       "    }\n",
       "\n",
       "    .dataframe tbody tr th {\n",
       "        vertical-align: top;\n",
       "    }\n",
       "\n",
       "    .dataframe thead th {\n",
       "        text-align: right;\n",
       "    }\n",
       "</style>\n",
       "<table border=\"1\" class=\"dataframe\">\n",
       "  <thead>\n",
       "    <tr style=\"text-align: right;\">\n",
       "      <th></th>\n",
       "      <th>Total_Bill_Amt</th>\n",
       "      <th>Tip_Amount_UGX</th>\n",
       "      <th>Party_Size</th>\n",
       "    </tr>\n",
       "  </thead>\n",
       "  <tbody>\n",
       "    <tr>\n",
       "      <th>count</th>\n",
       "      <td>950.00</td>\n",
       "      <td>950.00</td>\n",
       "      <td>1000.00</td>\n",
       "    </tr>\n",
       "    <tr>\n",
       "      <th>mean</th>\n",
       "      <td>221496816.04</td>\n",
       "      <td>16695712.86</td>\n",
       "      <td>7.00</td>\n",
       "    </tr>\n",
       "    <tr>\n",
       "      <th>std</th>\n",
       "      <td>124075399.63</td>\n",
       "      <td>10025874.07</td>\n",
       "      <td>11.22</td>\n",
       "    </tr>\n",
       "    <tr>\n",
       "      <th>min</th>\n",
       "      <td>5032493.80</td>\n",
       "      <td>122375.00</td>\n",
       "      <td>1.00</td>\n",
       "    </tr>\n",
       "    <tr>\n",
       "      <th>25%</th>\n",
       "      <td>140082807.60</td>\n",
       "      <td>9868580.00</td>\n",
       "      <td>3.00</td>\n",
       "    </tr>\n",
       "    <tr>\n",
       "      <th>50%</th>\n",
       "      <td>200629073.77</td>\n",
       "      <td>14781722.50</td>\n",
       "      <td>6.00</td>\n",
       "    </tr>\n",
       "    <tr>\n",
       "      <th>75%</th>\n",
       "      <td>272893294.04</td>\n",
       "      <td>21075122.50</td>\n",
       "      <td>8.00</td>\n",
       "    </tr>\n",
       "    <tr>\n",
       "      <th>max</th>\n",
       "      <td>1364591596.77</td>\n",
       "      <td>95441091.00</td>\n",
       "      <td>100.00</td>\n",
       "    </tr>\n",
       "  </tbody>\n",
       "</table>\n",
       "</div>"
      ],
      "text/plain": [
       "       Total_Bill_Amt  Tip_Amount_UGX  Party_Size\n",
       "count          950.00          950.00     1000.00\n",
       "mean     221496816.04     16695712.86        7.00\n",
       "std      124075399.63     10025874.07       11.22\n",
       "min        5032493.80       122375.00        1.00\n",
       "25%      140082807.60      9868580.00        3.00\n",
       "50%      200629073.77     14781722.50        6.00\n",
       "75%      272893294.04     21075122.50        8.00\n",
       "max     1364591596.77     95441091.00      100.00"
      ]
     },
     "execution_count": 7,
     "metadata": {},
     "output_type": "execute_result"
    }
   ],
   "source": [
    "#displaying the statistics of the numeric columns\n",
    "df.describe()"
   ]
  },
  {
   "cell_type": "code",
   "execution_count": 8,
   "id": "644c2faf-3b94-4fac-9857-2338ab70bd51",
   "metadata": {},
   "outputs": [
    {
     "data": {
      "text/plain": [
       "CustomerID          0\n",
       "Total_Bill_Amt     50\n",
       "Tip_Amount_UGX     50\n",
       "Gender_Cat          0\n",
       "Location_City       0\n",
       "Meal_Type         100\n",
       "Visit_Date          0\n",
       "Party_Size          0\n",
       "dtype: int64"
      ]
     },
     "execution_count": 8,
     "metadata": {},
     "output_type": "execute_result"
    }
   ],
   "source": [
    "#finding rows with missing entries\n",
    "df.isnull().sum()"
   ]
  },
  {
   "cell_type": "code",
   "execution_count": 9,
   "id": "54af91ab-6e89-414e-ac83-7b2456919b79",
   "metadata": {},
   "outputs": [
    {
     "data": {
      "text/plain": [
       "Index(['CustomerID', 'Total_Bill_Amt', 'Tip_Amount_UGX', 'Gender_Cat',\n",
       "       'Location_City', 'Meal_Type', 'Visit_Date', 'Party_Size'],\n",
       "      dtype='object')"
      ]
     },
     "execution_count": 9,
     "metadata": {},
     "output_type": "execute_result"
    }
   ],
   "source": [
    "#checking column names\n",
    "df.columns"
   ]
  },
  {
   "cell_type": "markdown",
   "id": "8180fa7f-f608-4abd-9d82-a180b4137754",
   "metadata": {},
   "source": [
    "## Step 2: Clean the data"
   ]
  },
  {
   "cell_type": "code",
   "execution_count": 11,
   "id": "ee23be6a-d496-4ddd-b8f6-bd50615c292a",
   "metadata": {},
   "outputs": [
    {
     "name": "stdout",
     "output_type": "stream",
     "text": [
      "Cleaned Column Names:\n",
      "['customerid', 'total_bill_amt', 'tip_amount_ugx', 'gender_cat', 'location_city', 'meal_type', 'visit_date', 'party_size']\n"
     ]
    }
   ],
   "source": [
    "#standardising the column names\n",
    "df.columns = df.columns.str.replace(r'[A-Z]', r'_\\1').str.lower()\n",
    "df.columns = df.columns.str.strip()\n",
    "\n",
    "print (\"Cleaned Column Names:\")\n",
    "print (df.columns.tolist())"
   ]
  },
  {
   "cell_type": "code",
   "execution_count": 12,
   "id": "46d2ee92-9a1f-461d-b5dd-2787221f6533",
   "metadata": {},
   "outputs": [
    {
     "name": "stdout",
     "output_type": "stream",
     "text": [
      "['customer_id', 'total_bill_amt', 'tip_amount_ugx', 'gender_cat', 'location_city', 'meal_type', 'visit_date', 'party_size']\n"
     ]
    }
   ],
   "source": [
    "#attempting to change the way the customer id column name is written. to rename it\n",
    "df = df.rename(columns = {'customerid' : 'customer_id'})\n",
    "\n",
    "#seeing the results\n",
    "print (df.columns.tolist())\n"
   ]
  },
  {
   "cell_type": "markdown",
   "id": "626f242b-e845-49fa-b96d-09a7f885f9f9",
   "metadata": {},
   "source": [
    "### Handling Missing Values"
   ]
  },
  {
   "cell_type": "code",
   "execution_count": 14,
   "id": "a66e9125-c39e-4055-9823-bdc9ce1146e2",
   "metadata": {},
   "outputs": [],
   "source": [
    "#missing values in meal type\n",
    "df['meal_type'] = df['meal_type'].fillna('Unknown')"
   ]
  },
  {
   "cell_type": "code",
   "execution_count": 15,
   "id": "87817032-5192-4c9a-b401-7d0caded2c7e",
   "metadata": {},
   "outputs": [
    {
     "data": {
      "image/png": "[encoded data removed]",
      "text/plain": [
       "<Figure size 640x480 with 1 Axes>"
      ]
     },
     "metadata": {},
     "output_type": "display_data"
    }
   ],
   "source": [
    "#checking for outliers in total bill amount\n",
    "sns.boxplot(x = df['total_bill_amt'])\n",
    "plt.title('Distribution of Total Bill')\n",
    "plt.show()"
   ]
  },
  {
   "cell_type": "code",
   "execution_count": 16,
   "id": "95c0d676-6dd8-44cc-884d-43a85b77cc0f",
   "metadata": {},
   "outputs": [],
   "source": [
    "#missing values in total bill amount\n",
    "#df['total_bill_amt'] = df['total_bill_amt'].fillna(df['total_bill_amt'].median())\n",
    "\n",
    "#we would use median to impute as the data is not evenly distributed.\n",
    "#i will not be subsitituing the missing values with median as that may affect the end outcome and give a wrong image of actual earnings."
   ]
  },
  {
   "cell_type": "code",
   "execution_count": 17,
   "id": "5ae36b04-fa88-4b50-8f34-4989bdb3c594",
   "metadata": {},
   "outputs": [
    {
     "data": {
      "image/png": "[encoded data removed]",
      "text/plain": [
       "<Figure size 640x480 with 1 Axes>"
      ]
     },
     "metadata": {},
     "output_type": "display_data"
    }
   ],
   "source": [
    "#checking distribution of data in tip amount\n",
    "sns.boxplot(x = df['tip_amount_ugx'])\n",
    "plt.title('Distribution of Tip Amount')\n",
    "plt.show()"
   ]
  },
  {
   "cell_type": "code",
   "execution_count": 18,
   "id": "c303e0e4-5b80-450f-b7cc-6ee078ce2f4d",
   "metadata": {},
   "outputs": [],
   "source": [
    "#missing values in tip amount\n",
    "#df['tip_amount_ugx'] = df['tip_amount_ugx'].fillna(df['tip_amount_ugx'].median())"
   ]
  },
  {
   "cell_type": "markdown",
   "id": "15593533-9a22-43d4-bc5f-97743a963d76",
   "metadata": {},
   "source": [
    "### Addressing outliers"
   ]
  },
  {
   "cell_type": "code",
   "execution_count": 20,
   "id": "683a71d4-2c9f-4436-9ac7-ffb85bd4193b",
   "metadata": {},
   "outputs": [],
   "source": [
    "#clipping outliers in total bill amount  tbd\n",
    "#df[''].clip()"
   ]
  },
  {
   "cell_type": "code",
   "execution_count": 21,
   "id": "aee711f6-ff66-4529-b25c-9f1a1dea51a0",
   "metadata": {},
   "outputs": [],
   "source": [
    "#clipping outliers in tip amoutnt tbd"
   ]
  },
  {
   "cell_type": "code",
   "execution_count": 22,
   "id": "86c34edc-2398-4ec1-a796-be69f931e588",
   "metadata": {},
   "outputs": [
    {
     "name": "stdout",
     "output_type": "stream",
     "text": [
      "I did not clip any of the outliers as the outliers in the total bill amount and tip amount \n",
      "may correspond with the outliers in the party size column. \n",
      "This may be because the unusually big party sizes paid higher total bills and tip amounts.\n"
     ]
    }
   ],
   "source": [
    "print ('I did not clip any of the outliers as the outliers in the total bill amount and tip amount \\nmay correspond with the outliers in the party size column. \\nThis may be because the unusually big party sizes paid higher total bills and tip amounts.')"
   ]
  },
  {
   "cell_type": "markdown",
   "id": "31a40869-7fa3-4573-ac92-160270f85c9d",
   "metadata": {},
   "source": [
    "### Standardising spellings within the columns"
   ]
  },
  {
   "cell_type": "code",
   "execution_count": 24,
   "id": "96cfcc11-a8e6-4fb9-8714-5cd5ea298490",
   "metadata": {},
   "outputs": [
    {
     "name": "stdout",
     "output_type": "stream",
     "text": [
      "['male' 'female']\n"
     ]
    }
   ],
   "source": [
    "#standardising gender spellings\n",
    "df['gender_cat'] = df['gender_cat'].str.title().replace({'M' : 'Male' , 'F' : 'Female'})\n",
    "df['gender_cat'] = df['gender_cat'].str.lower()\n",
    "\n",
    "print (df['gender_cat'].unique())"
   ]
  },
  {
   "cell_type": "code",
   "execution_count": 25,
   "id": "9b096d27-ccda-46f3-a8e3-a87818390422",
   "metadata": {},
   "outputs": [
    {
     "data": {
      "text/plain": [
       "array(['Gulu', 'Kampala', 'Entebbe', 'Mbarara', 'Arua'], dtype=object)"
      ]
     },
     "execution_count": 25,
     "metadata": {},
     "output_type": "execute_result"
    }
   ],
   "source": [
    "#standardising spellings of locations\n",
    "df['location_city'] = df['location_city'].str.title().replace({'Kampalla' : 'Kampala'})\n",
    "\n",
    "df['location_city'].unique()"
   ]
  },
  {
   "cell_type": "markdown",
   "id": "0d90f3da-87cc-4353-b299-c07f581a5deb",
   "metadata": {},
   "source": [
    "## Converting relevant columns to more suitable data types"
   ]
  },
  {
   "cell_type": "code",
   "execution_count": 27,
   "id": "f048eb9f-a531-4a74-8651-e2fe8854410e",
   "metadata": {},
   "outputs": [
    {
     "data": {
      "text/plain": [
       "customer_id        object\n",
       "total_bill_amt    float64\n",
       "tip_amount_ugx    float64\n",
       "gender_cat         object\n",
       "location_city      object\n",
       "meal_type          object\n",
       "visit_date         object\n",
       "party_size          int64\n",
       "dtype: object"
      ]
     },
     "execution_count": 27,
     "metadata": {},
     "output_type": "execute_result"
    }
   ],
   "source": [
    "df.dtypes"
   ]
  },
  {
   "cell_type": "code",
   "execution_count": 28,
   "id": "db7dd2d4-e486-4148-aee8-0baccbaa6623",
   "metadata": {},
   "outputs": [],
   "source": [
    "#converting visit date to datetime\n",
    "df['visit_date'] = pd.to_datetime(df['visit_date'], errors = 'coerce')"
   ]
  },
  {
   "cell_type": "code",
   "execution_count": 29,
   "id": "2a5edf38-96c5-44fe-a450-60828ef51420",
   "metadata": {},
   "outputs": [
    {
     "data": {
      "text/plain": [
       "0"
      ]
     },
     "execution_count": 29,
     "metadata": {},
     "output_type": "execute_result"
    }
   ],
   "source": [
    "#checking for duplicated rows\n",
    "df.duplicated().sum()"
   ]
  },
  {
   "cell_type": "code",
   "execution_count": 30,
   "id": "b36015b5-24a4-46cc-982d-fca9ee8c971d",
   "metadata": {},
   "outputs": [
    {
     "data": {
      "text/html": [
       "<div>\n",
       "<style scoped>\n",
       "    .dataframe tbody tr th:only-of-type {\n",
       "        vertical-align: middle;\n",
       "    }\n",
       "\n",
       "    .dataframe tbody tr th {\n",
       "        vertical-align: top;\n",
       "    }\n",
       "\n",
       "    .dataframe thead th {\n",
       "        text-align: right;\n",
       "    }\n",
       "</style>\n",
       "<table border=\"1\" class=\"dataframe\">\n",
       "  <thead>\n",
       "    <tr style=\"text-align: right;\">\n",
       "      <th></th>\n",
       "      <th>customer_id</th>\n",
       "      <th>total_bill_amt</th>\n",
       "      <th>tip_amount_ugx</th>\n",
       "      <th>gender_cat</th>\n",
       "      <th>location_city</th>\n",
       "      <th>meal_type</th>\n",
       "      <th>visit_date</th>\n",
       "      <th>party_size</th>\n",
       "    </tr>\n",
       "  </thead>\n",
       "  <tbody>\n",
       "    <tr>\n",
       "      <th>0</th>\n",
       "      <td>CUST001</td>\n",
       "      <td>254831310.17</td>\n",
       "      <td>14875556.00</td>\n",
       "      <td>male</td>\n",
       "      <td>Gulu</td>\n",
       "      <td>Unknown</td>\n",
       "      <td>2024-10-17</td>\n",
       "      <td>4</td>\n",
       "    </tr>\n",
       "    <tr>\n",
       "      <th>1</th>\n",
       "      <td>CUST002</td>\n",
       "      <td>185510701.50</td>\n",
       "      <td>10245458.00</td>\n",
       "      <td>male</td>\n",
       "      <td>Kampala</td>\n",
       "      <td>Vegetarian</td>\n",
       "      <td>2024-02-10</td>\n",
       "      <td>8</td>\n",
       "    </tr>\n",
       "    <tr>\n",
       "      <th>2</th>\n",
       "      <td>CUST003</td>\n",
       "      <td>274812484.37</td>\n",
       "      <td>22485573.00</td>\n",
       "      <td>male</td>\n",
       "      <td>Entebbe</td>\n",
       "      <td>Non-Vegetarian</td>\n",
       "      <td>2024-02-13</td>\n",
       "      <td>6</td>\n",
       "    </tr>\n",
       "    <tr>\n",
       "      <th>3</th>\n",
       "      <td>CUST004</td>\n",
       "      <td>425710547.44</td>\n",
       "      <td>36323236.00</td>\n",
       "      <td>male</td>\n",
       "      <td>Mbarara</td>\n",
       "      <td>Unknown</td>\n",
       "      <td>2024-09-05</td>\n",
       "      <td>3</td>\n",
       "    </tr>\n",
       "    <tr>\n",
       "      <th>4</th>\n",
       "      <td>CUST005</td>\n",
       "      <td>176826324.55</td>\n",
       "      <td>9120579.00</td>\n",
       "      <td>female</td>\n",
       "      <td>Entebbe</td>\n",
       "      <td>Kids Meal</td>\n",
       "      <td>2024-02-05</td>\n",
       "      <td>4</td>\n",
       "    </tr>\n",
       "    <tr>\n",
       "      <th>5</th>\n",
       "      <td>CUST006</td>\n",
       "      <td>176827776.11</td>\n",
       "      <td>17118805.00</td>\n",
       "      <td>female</td>\n",
       "      <td>Kampala</td>\n",
       "      <td>Special</td>\n",
       "      <td>2024-09-29</td>\n",
       "      <td>2</td>\n",
       "    </tr>\n",
       "    <tr>\n",
       "      <th>6</th>\n",
       "      <td>CUST007</td>\n",
       "      <td>437838941.28</td>\n",
       "      <td>23029700.00</td>\n",
       "      <td>female</td>\n",
       "      <td>Gulu</td>\n",
       "      <td>Non-Vegetarian</td>\n",
       "      <td>2024-03-05</td>\n",
       "      <td>1</td>\n",
       "    </tr>\n",
       "    <tr>\n",
       "      <th>7</th>\n",
       "      <td>CUST008</td>\n",
       "      <td>291768910.22</td>\n",
       "      <td>22485118.00</td>\n",
       "      <td>male</td>\n",
       "      <td>Entebbe</td>\n",
       "      <td>Non-Vegetarian</td>\n",
       "      <td>2024-03-06</td>\n",
       "      <td>8</td>\n",
       "    </tr>\n",
       "    <tr>\n",
       "      <th>8</th>\n",
       "      <td>CUST009</td>\n",
       "      <td>157198215.48</td>\n",
       "      <td>13433063.00</td>\n",
       "      <td>male</td>\n",
       "      <td>Kampala</td>\n",
       "      <td>Special</td>\n",
       "      <td>2024-12-03</td>\n",
       "      <td>1</td>\n",
       "    </tr>\n",
       "    <tr>\n",
       "      <th>9</th>\n",
       "      <td>CUST010</td>\n",
       "      <td>260740260.89</td>\n",
       "      <td>24391849.00</td>\n",
       "      <td>male</td>\n",
       "      <td>Entebbe</td>\n",
       "      <td>Kids Meal</td>\n",
       "      <td>2024-08-31</td>\n",
       "      <td>1</td>\n",
       "    </tr>\n",
       "    <tr>\n",
       "      <th>10</th>\n",
       "      <td>CUST011</td>\n",
       "      <td>157674987.71</td>\n",
       "      <td>13513432.00</td>\n",
       "      <td>male</td>\n",
       "      <td>Entebbe</td>\n",
       "      <td>Non-Vegetarian</td>\n",
       "      <td>2024-10-08</td>\n",
       "      <td>4</td>\n",
       "    </tr>\n",
       "    <tr>\n",
       "      <th>11</th>\n",
       "      <td>CUST012</td>\n",
       "      <td>157492815.95</td>\n",
       "      <td>14187961.00</td>\n",
       "      <td>female</td>\n",
       "      <td>Kampala</td>\n",
       "      <td>Unknown</td>\n",
       "      <td>2024-03-25</td>\n",
       "      <td>10</td>\n",
       "    </tr>\n",
       "    <tr>\n",
       "      <th>12</th>\n",
       "      <td>CUST013</td>\n",
       "      <td>224354155.98</td>\n",
       "      <td>15025561.00</td>\n",
       "      <td>male</td>\n",
       "      <td>Entebbe</td>\n",
       "      <td>Special</td>\n",
       "      <td>2024-05-15</td>\n",
       "      <td>10</td>\n",
       "    </tr>\n",
       "    <tr>\n",
       "      <th>13</th>\n",
       "      <td>CUST014</td>\n",
       "      <td>76371118.81</td>\n",
       "      <td>6930011.00</td>\n",
       "      <td>male</td>\n",
       "      <td>Entebbe</td>\n",
       "      <td>Non-Vegetarian</td>\n",
       "      <td>2024-09-27</td>\n",
       "      <td>6</td>\n",
       "    </tr>\n",
       "    <tr>\n",
       "      <th>14</th>\n",
       "      <td>CUST015</td>\n",
       "      <td>83913441.13</td>\n",
       "      <td>4531808.00</td>\n",
       "      <td>female</td>\n",
       "      <td>Arua</td>\n",
       "      <td>Vegetarian</td>\n",
       "      <td>2024-11-06</td>\n",
       "      <td>9</td>\n",
       "    </tr>\n",
       "  </tbody>\n",
       "</table>\n",
       "</div>"
      ],
      "text/plain": [
       "   customer_id  total_bill_amt  tip_amount_ugx gender_cat location_city  \\\n",
       "0      CUST001    254831310.17     14875556.00       male          Gulu   \n",
       "1      CUST002    185510701.50     10245458.00       male       Kampala   \n",
       "2      CUST003    274812484.37     22485573.00       male       Entebbe   \n",
       "3      CUST004    425710547.44     36323236.00       male       Mbarara   \n",
       "4      CUST005    176826324.55      9120579.00     female       Entebbe   \n",
       "5      CUST006    176827776.11     17118805.00     female       Kampala   \n",
       "6      CUST007    437838941.28     23029700.00     female          Gulu   \n",
       "7      CUST008    291768910.22     22485118.00       male       Entebbe   \n",
       "8      CUST009    157198215.48     13433063.00       male       Kampala   \n",
       "9      CUST010    260740260.89     24391849.00       male       Entebbe   \n",
       "10     CUST011    157674987.71     13513432.00       male       Entebbe   \n",
       "11     CUST012    157492815.95     14187961.00     female       Kampala   \n",
       "12     CUST013    224354155.98     15025561.00       male       Entebbe   \n",
       "13     CUST014     76371118.81      6930011.00       male       Entebbe   \n",
       "14     CUST015     83913441.13      4531808.00     female          Arua   \n",
       "\n",
       "         meal_type visit_date  party_size  \n",
       "0          Unknown 2024-10-17           4  \n",
       "1       Vegetarian 2024-02-10           8  \n",
       "2   Non-Vegetarian 2024-02-13           6  \n",
       "3          Unknown 2024-09-05           3  \n",
       "4        Kids Meal 2024-02-05           4  \n",
       "5          Special 2024-09-29           2  \n",
       "6   Non-Vegetarian 2024-03-05           1  \n",
       "7   Non-Vegetarian 2024-03-06           8  \n",
       "8          Special 2024-12-03           1  \n",
       "9        Kids Meal 2024-08-31           1  \n",
       "10  Non-Vegetarian 2024-10-08           4  \n",
       "11         Unknown 2024-03-25          10  \n",
       "12         Special 2024-05-15          10  \n",
       "13  Non-Vegetarian 2024-09-27           6  \n",
       "14      Vegetarian 2024-11-06           9  "
      ]
     },
     "execution_count": 30,
     "metadata": {},
     "output_type": "execute_result"
    }
   ],
   "source": [
    "df.head(15)"
   ]
  },
  {
   "cell_type": "code",
   "execution_count": 31,
   "id": "300ba575-b0ec-4b7b-b3f3-5fc9d2daa624",
   "metadata": {},
   "outputs": [
    {
     "name": "stdout",
     "output_type": "stream",
     "text": [
      "Cleaned data csv saved successfully!\n"
     ]
    }
   ],
   "source": [
    "#save the cleaned data as a new csv file\n",
    "cleaned_df = df.to_csv('cleaned_gb_restaurant_project_data.csv') \n",
    "\n",
    "print ('Cleaned data csv saved successfully!')"
   ]
  },
  {
   "cell_type": "markdown",
   "id": "5a66d825-6b8d-4298-a682-45b67efbed8f",
   "metadata": {},
   "source": [
    "# 2) Descriptive Statistics"
   ]
  },
  {
   "cell_type": "code",
   "execution_count": 33,
   "id": "8d5999e0-c1c8-4aa2-9d37-e7ca80c9e98d",
   "metadata": {},
   "outputs": [
    {
     "data": {
      "text/html": [
       "<div>\n",
       "<style scoped>\n",
       "    .dataframe tbody tr th:only-of-type {\n",
       "        vertical-align: middle;\n",
       "    }\n",
       "\n",
       "    .dataframe tbody tr th {\n",
       "        vertical-align: top;\n",
       "    }\n",
       "\n",
       "    .dataframe thead th {\n",
       "        text-align: right;\n",
       "    }\n",
       "</style>\n",
       "<table border=\"1\" class=\"dataframe\">\n",
       "  <thead>\n",
       "    <tr style=\"text-align: right;\">\n",
       "      <th></th>\n",
       "      <th>total_bill_amt</th>\n",
       "      <th>tip_amount_ugx</th>\n",
       "      <th>visit_date</th>\n",
       "      <th>party_size</th>\n",
       "    </tr>\n",
       "  </thead>\n",
       "  <tbody>\n",
       "    <tr>\n",
       "      <th>count</th>\n",
       "      <td>950.00</td>\n",
       "      <td>950.00</td>\n",
       "      <td>950</td>\n",
       "      <td>1000.00</td>\n",
       "    </tr>\n",
       "    <tr>\n",
       "      <th>mean</th>\n",
       "      <td>221496816.04</td>\n",
       "      <td>16695712.86</td>\n",
       "      <td>2024-07-03 13:23:22.105263104</td>\n",
       "      <td>7.00</td>\n",
       "    </tr>\n",
       "    <tr>\n",
       "      <th>min</th>\n",
       "      <td>5032493.80</td>\n",
       "      <td>122375.00</td>\n",
       "      <td>2024-01-01 00:00:00</td>\n",
       "      <td>1.00</td>\n",
       "    </tr>\n",
       "    <tr>\n",
       "      <th>25%</th>\n",
       "      <td>140082807.60</td>\n",
       "      <td>9868580.00</td>\n",
       "      <td>2024-04-07 06:00:00</td>\n",
       "      <td>3.00</td>\n",
       "    </tr>\n",
       "    <tr>\n",
       "      <th>50%</th>\n",
       "      <td>200629073.77</td>\n",
       "      <td>14781722.50</td>\n",
       "      <td>2024-07-03 12:00:00</td>\n",
       "      <td>6.00</td>\n",
       "    </tr>\n",
       "    <tr>\n",
       "      <th>75%</th>\n",
       "      <td>272893294.04</td>\n",
       "      <td>21075122.50</td>\n",
       "      <td>2024-10-02 18:00:00</td>\n",
       "      <td>8.00</td>\n",
       "    </tr>\n",
       "    <tr>\n",
       "      <th>max</th>\n",
       "      <td>1364591596.77</td>\n",
       "      <td>95441091.00</td>\n",
       "      <td>2024-12-31 00:00:00</td>\n",
       "      <td>100.00</td>\n",
       "    </tr>\n",
       "    <tr>\n",
       "      <th>std</th>\n",
       "      <td>124075399.63</td>\n",
       "      <td>10025874.07</td>\n",
       "      <td>NaN</td>\n",
       "      <td>11.22</td>\n",
       "    </tr>\n",
       "  </tbody>\n",
       "</table>\n",
       "</div>"
      ],
      "text/plain": [
       "       total_bill_amt  tip_amount_ugx                     visit_date  \\\n",
       "count          950.00          950.00                            950   \n",
       "mean     221496816.04     16695712.86  2024-07-03 13:23:22.105263104   \n",
       "min        5032493.80       122375.00            2024-01-01 00:00:00   \n",
       "25%      140082807.60      9868580.00            2024-04-07 06:00:00   \n",
       "50%      200629073.77     14781722.50            2024-07-03 12:00:00   \n",
       "75%      272893294.04     21075122.50            2024-10-02 18:00:00   \n",
       "max     1364591596.77     95441091.00            2024-12-31 00:00:00   \n",
       "std      124075399.63     10025874.07                            NaN   \n",
       "\n",
       "       party_size  \n",
       "count     1000.00  \n",
       "mean         7.00  \n",
       "min          1.00  \n",
       "25%          3.00  \n",
       "50%          6.00  \n",
       "75%          8.00  \n",
       "max        100.00  \n",
       "std         11.22  "
      ]
     },
     "execution_count": 33,
     "metadata": {},
     "output_type": "execute_result"
    }
   ],
   "source": [
    "#Calculating measures for numeric columns\n",
    "df.describe()"
   ]
  },
  {
   "cell_type": "markdown",
   "id": "d1e1a39e-73b9-4c53-ab89-07620223f32d",
   "metadata": {},
   "source": [
    "## Summarising categorical variables"
   ]
  },
  {
   "cell_type": "code",
   "execution_count": 35,
   "id": "a0a605c8-4ea1-4458-b8ca-9d52750f5d55",
   "metadata": {},
   "outputs": [
    {
     "name": "stdout",
     "output_type": "stream",
     "text": [
      "Frequency Counts: gender_cat\n",
      "male      507\n",
      "female    493\n",
      "Name: count, dtype: int64\n",
      "\n",
      "Percentages: gender_cat\n",
      "male     50.70\n",
      "female   49.30\n",
      "Name: proportion, dtype: float64\n"
     ]
    }
   ],
   "source": [
    "#Categorical values for gender\n",
    "freq = df['gender_cat'].value_counts()\n",
    "percentage = df['gender_cat'].value_counts(normalize=True) * 100\n",
    "\n",
    "print (\"Frequency Counts:\", freq)\n",
    "print ('\\nPercentages:', percentage)"
   ]
  },
  {
   "cell_type": "code",
   "execution_count": 36,
   "id": "6ff037d6-82df-4a71-90c3-e01207f26d2d",
   "metadata": {},
   "outputs": [
    {
     "name": "stdout",
     "output_type": "stream",
     "text": [
      "Frequency: location_city\n",
      "Kampala    349\n",
      "Entebbe    201\n",
      "Mbarara    152\n",
      "Gulu       150\n",
      "Arua       148\n",
      "Name: count, dtype: int64\n",
      "\n",
      "Location Percentage: location_city\n",
      "Kampala   34.90\n",
      "Entebbe   20.10\n",
      "Mbarara   15.20\n",
      "Gulu      15.00\n",
      "Arua      14.80\n",
      "Name: proportion, dtype: float64\n"
     ]
    }
   ],
   "source": [
    "#Categorical values for location\n",
    "loc_freq = df['location_city'].value_counts()\n",
    "loc_percentage = df['location_city'].value_counts(normalize=True) * 100\n",
    "\n",
    "print ('Frequency:', loc_freq )\n",
    "print ('\\nLocation Percentage:', loc_percentage)"
   ]
  },
  {
   "cell_type": "code",
   "execution_count": 37,
   "id": "e721dfeb-1cd3-4ddb-964a-13184fd413e6",
   "metadata": {},
   "outputs": [
    {
     "name": "stdout",
     "output_type": "stream",
     "text": [
      "Frequency by meal_type\n",
      "Non-Vegetarian    445\n",
      "Special           182\n",
      "Vegetarian        181\n",
      "Unknown           100\n",
      "Kids Meal          92\n",
      "Name: count, dtype: int64\n",
      "\n",
      "Percentage by meal_type\n",
      "Non-Vegetarian   44.50\n",
      "Special          18.20\n",
      "Vegetarian       18.10\n",
      "Unknown          10.00\n",
      "Kids Meal         9.20\n",
      "Name: proportion, dtype: float64\n"
     ]
    }
   ],
   "source": [
    "#Categorical variables for Meal type\n",
    "type_freq = df['meal_type'].value_counts()\n",
    "type_percentage = df['meal_type'].value_counts(normalize=True) * 100\n",
    "\n",
    "print ('Frequency by',type_freq)\n",
    "print ('\\nPercentage by', type_percentage,)"
   ]
  },
  {
   "cell_type": "markdown",
   "id": "60dce9f8-86bf-491c-93a6-b11b9848c4e4",
   "metadata": {},
   "source": [
    "### Visualise distributions"
   ]
  },
  {
   "cell_type": "code",
   "execution_count": 39,
   "id": "a4324d25-6e6d-4c6e-8e6b-ccfe6a03de1c",
   "metadata": {},
   "outputs": [
    {
     "data": {
      "image/png": "[encoded data removed]",
      "text/plain": [
       "<Figure size 640x480 with 1 Axes>"
      ]
     },
     "metadata": {},
     "output_type": "display_data"
    }
   ],
   "source": [
    "#Party size distribution\n",
    "sns.histplot(x = df['party_size'])\n",
    "plt.title('Party Size Distribution')\n",
    "plt.show()"
   ]
  },
  {
   "cell_type": "code",
   "execution_count": 40,
   "id": "45f81b0e-9ad1-4839-b504-db14854fd062",
   "metadata": {},
   "outputs": [
    {
     "data": {
      "image/png": "[encoded data removed]",
      "text/plain": [
       "<Figure size 640x480 with 1 Axes>"
      ]
     },
     "metadata": {},
     "output_type": "display_data"
    }
   ],
   "source": [
    "#total bill distribution\n",
    "sns.histplot(x = df['total_bill_amt'])\n",
    "plt.title('Total Bill Amount Distribution')\n",
    "plt.xlabel('Total Bill Amount (Million Ugx)')\n",
    "plt.show()"
   ]
  },
  {
   "cell_type": "code",
   "execution_count": 41,
   "id": "3df5f96f-2f85-4d4f-bb26-3193a3017dd8",
   "metadata": {},
   "outputs": [
    {
     "data": {
      "image/png": "[encoded data removed]",
      "text/plain": [
       "<Figure size 640x480 with 1 Axes>"
      ]
     },
     "metadata": {},
     "output_type": "display_data"
    }
   ],
   "source": [
    "#tip amount distribution\n",
    "sns.histplot(x = df['tip_amount_ugx'])\n",
    "plt.title('Tip Amount Distribution')\n",
    "plt.show()"
   ]
  },
  {
   "cell_type": "code",
   "execution_count": 114,
   "id": "936e7ebd-7709-4a20-a565-da42dbb3b7cb",
   "metadata": {},
   "outputs": [
    {
     "data": {
      "image/png": "[encoded data removed]",
      "text/plain": [
       "<Figure size 600x400 with 1 Axes>"
      ]
     },
     "metadata": {},
     "output_type": "display_data"
    }
   ],
   "source": [
    "#gender distribution\n",
    "df['gender_cat'].value_counts().plot(kind='bar', figsize=(6,4))\n",
    "plt.title('Frequency of Gender')\n",
    "plt.xlabel('Gender')\n",
    "plt.ylabel('Count')\n",
    "plt.xticks(rotation=0)\n",
    "plt.grid(axis='y')\n",
    "plt.show()"
   ]
  },
  {
   "cell_type": "code",
   "execution_count": 43,
   "id": "fdf8e6d4-261b-436b-b3c6-adfe2d479c31",
   "metadata": {},
   "outputs": [],
   "source": [
    "#gender category distribution\n",
    "#sns.barplot(x = df['gender_cat'])\n",
    "#plt.title('Gender Category Distribution')\n",
    "#plt.show()"
   ]
  },
  {
   "cell_type": "code",
   "execution_count": 44,
   "id": "ad5c4558-9ae6-4667-a671-d5c8578cdb32",
   "metadata": {},
   "outputs": [],
   "source": [
    "#meal type distribution\n",
    "#sns.heatmap(x = df['meal_type'])\n",
    "#plt.title('Meal Type Distribution')\n",
    "#plt.show()"
   ]
  },
  {
   "cell_type": "code",
   "execution_count": 45,
   "id": "c8af95ca-206b-419a-9ac7-7c5ed049fe5b",
   "metadata": {},
   "outputs": [],
   "source": [
    "#Location city distribution\n",
    "#sns.barplot(x = df['location_city'])\n",
    "#plt.title('Location City Distribution')\n",
    "#plt.show()\n",
    "\n",
    "#need to add frequency"
   ]
  },
  {
   "cell_type": "code",
   "execution_count": 46,
   "id": "2d0a3996-702d-4d1b-b8b8-8dbcfb7d81f2",
   "metadata": {},
   "outputs": [],
   "source": [
    "#chart "
   ]
  },
  {
   "cell_type": "markdown",
   "id": "fec06c1b-ac8c-478f-967a-4787602c6366",
   "metadata": {},
   "source": [
    "## Cross Tabulations and Groupby"
   ]
  },
  {
   "cell_type": "markdown",
   "id": "59948d22-261f-400e-9787-d63834e72efc",
   "metadata": {},
   "source": [
    "### Cross-tabs"
   ]
  },
  {
   "cell_type": "code",
   "execution_count": 49,
   "id": "9640c1d5-a0e4-4822-8f39-328482bb2b16",
   "metadata": {},
   "outputs": [
    {
     "name": "stdout",
     "output_type": "stream",
     "text": [
      "Cross Tabulation of gender by location:\n",
      "gender_cat     female  male   All\n",
      "location_city                    \n",
      "All               493   507  1000\n",
      "Kampala           181   168   349\n",
      "Entebbe            94   107   201\n",
      "Mbarara            72    80   152\n",
      "Gulu               63    87   150\n",
      "Arua               83    65   148\n"
     ]
    }
   ],
   "source": [
    "#Gender vs Locations cross-tab\n",
    "gender_by_location = pd.crosstab(\n",
    "    index = df['location_city'],\n",
    "    columns = df['gender_cat'],\n",
    "    margins= True\n",
    ")\n",
    "\n",
    "print ('Cross Tabulation of gender by location:')\n",
    "print (gender_by_location.sort_values(by='All', ascending=False))"
   ]
  },
  {
   "cell_type": "code",
   "execution_count": 50,
   "id": "98227d7f-1bdc-462f-9a7c-6a7c31b2e624",
   "metadata": {},
   "outputs": [
    {
     "name": "stdout",
     "output_type": "stream",
     "text": [
      "Cross Tabulation of Meal Type vs Location\n",
      "meal_type      Kids Meal  Non-Vegetarian  Special  Unknown  Vegetarian   All\n",
      "location_city                                                               \n",
      "All                   92             445      182      100         181  1000\n",
      "Kampala               28             152       71       29          69   349\n",
      "Entebbe               24              93       32       19          33   201\n",
      "Mbarara               10              76       20       24          22   152\n",
      "Gulu                  16              62       33       12          27   150\n",
      "Arua                  14              62       26       16          30   148\n"
     ]
    }
   ],
   "source": [
    "#Cross-tab of Meal Type vs Location\n",
    "mealtype_by_location = pd.crosstab(\n",
    "    index = df['location_city'],\n",
    "    columns = df['meal_type'],\n",
    "    margins = True\n",
    ")\n",
    "\n",
    "print ('Cross Tabulation of Meal Type vs Location')\n",
    "print (mealtype_by_location.sort_values(by='All', ascending=False))"
   ]
  },
  {
   "cell_type": "markdown",
   "id": "ee0f0b67-2621-4617-ada9-81df3f5f323a",
   "metadata": {},
   "source": [
    "### Groupby"
   ]
  },
  {
   "cell_type": "code",
   "execution_count": 52,
   "id": "7088cb89-5da3-466a-956f-297203354942",
   "metadata": {},
   "outputs": [
    {
     "name": "stdout",
     "output_type": "stream",
     "text": [
      "Average total bill amount by location and gender: \n",
      "\n",
      "gender_cat          female         male\n",
      "location_city                          \n",
      "Arua          227887233.80 211797213.24\n",
      "Entebbe       207674354.05 214714890.54\n",
      "Gulu          246942487.89 248318499.04\n",
      "Kampala       217615439.06 223410876.66\n",
      "Mbarara       220882581.99 206169964.02\n"
     ]
    }
   ],
   "source": [
    "#Groupby Location and Gender to calculate average total bill mount\n",
    "avg_bill = df.groupby(['location_city', 'gender_cat'])['total_bill_amt'].mean().unstack()\n",
    "\n",
    "print ('Average total bill amount by location and gender: \\n')\n",
    "print (avg_bill)"
   ]
  },
  {
   "cell_type": "code",
   "execution_count": 53,
   "id": "1bc3c6e8-33bd-49d2-8bfe-beb973e2c4ab",
   "metadata": {},
   "outputs": [
    {
     "name": "stdout",
     "output_type": "stream",
     "text": [
      "Average tip amount by gender and location: \n",
      "\n",
      "gender_cat         female        male\n",
      "location_city                        \n",
      "Arua          17637541.81 15532289.95\n",
      "Entebbe       15953832.41 16117414.10\n",
      "Gulu          18727100.64 18497138.00\n",
      "Kampala       16126864.45 17064815.58\n",
      "Mbarara       15840259.43 16161554.28\n"
     ]
    }
   ],
   "source": [
    "#Groupby location and gender to calculate average tip amount\n",
    "avg_tip = df.groupby(['location_city', 'gender_cat'])['tip_amount_ugx'].mean().unstack()\n",
    "\n",
    "print ('Average tip amount by gender and location: \\n')\n",
    "print (avg_tip)"
   ]
  },
  {
   "cell_type": "markdown",
   "id": "a6084353-4ccd-4f01-b1ff-ea530644cd8f",
   "metadata": {},
   "source": [
    "### Viualising"
   ]
  },
  {
   "cell_type": "code",
   "execution_count": 55,
   "id": "d3710b6b-4b45-4138-af09-0a54f81dd760",
   "metadata": {},
   "outputs": [
    {
     "data": {
      "image/png": "[encoded data removed]",
      "text/plain": [
       "<Figure size 640x480 with 1 Axes>"
      ]
     },
     "metadata": {},
     "output_type": "display_data"
    }
   ],
   "source": [
    "#average total bill grouped by gender\n",
    "sns.boxplot(x = 'gender_cat', y = 'total_bill_amt', data = df )\n",
    "plt.title('Average Total Bill by Gender')\n",
    "plt.ylabel('Total Bill Amount (Million Ugx)')\n",
    "plt.show()"
   ]
  },
  {
   "cell_type": "code",
   "execution_count": 56,
   "id": "2f9b19b8-b288-40c9-89c1-e1011f625627",
   "metadata": {},
   "outputs": [
    {
     "data": {
      "image/png": "[encoded data removed]",
      "text/plain": [
       "<Figure size 640x480 with 1 Axes>"
      ]
     },
     "metadata": {},
     "output_type": "display_data"
    }
   ],
   "source": [
    "#average total bill grouped by location\n",
    "sns.boxplot(x = 'location_city', y = 'total_bill_amt', data = df )\n",
    "plt.title('Average Total Bill by location')\n",
    "plt.ylabel('Total Bill Amount (Million Ugx)')\n",
    "plt.show()"
   ]
  },
  {
   "cell_type": "code",
   "execution_count": 57,
   "id": "f64b7618-218a-4ba9-9a93-74686b0d12f2",
   "metadata": {},
   "outputs": [
    {
     "data": {
      "image/png": "[encoded data removed]",
      "text/plain": [
       "<Figure size 640x480 with 1 Axes>"
      ]
     },
     "metadata": {},
     "output_type": "display_data"
    }
   ],
   "source": [
    "#average tip amount grouped by gender\n",
    "sns.boxplot(x = 'gender_cat', y = 'tip_amount_ugx', data = df)\n",
    "plt.title('Average Tip amount by Gender')\n",
    "plt.ylabel('Tip Amount (Million Ugx)')\n",
    "plt.show()"
   ]
  },
  {
   "cell_type": "code",
   "execution_count": 58,
   "id": "9a1dbccd-d878-4f20-a9a3-f6e127beefec",
   "metadata": {},
   "outputs": [
    {
     "data": {
      "image/png": "[encoded data removed]",
      "text/plain": [
       "<Figure size 640x480 with 1 Axes>"
      ]
     },
     "metadata": {},
     "output_type": "display_data"
    }
   ],
   "source": [
    "#average tip amount gropued by location\n",
    "sns.boxplot(x = 'location_city', y = 'tip_amount_ugx', data = df )\n",
    "plt.title('Average Tip Amount by Locatiion')\n",
    "plt.ylabel('Tip Amount (Million Ugx)')\n",
    "plt.show()"
   ]
  },
  {
   "cell_type": "code",
   "execution_count": 59,
   "id": "8a3fcbc3-2463-4656-815a-60989a5fceff",
   "metadata": {},
   "outputs": [
    {
     "data": {
      "image/png": "[encoded data removed]",
      "text/plain": [
       "<Figure size 600x400 with 1 Axes>"
      ]
     },
     "metadata": {},
     "output_type": "display_data"
    }
   ],
   "source": [
    "#gender_by_location = gender_by_location.drop('All')\n",
    "gender_by_location.plot(kind= 'bar', figsize= (6, 4))\n",
    "plt.title('Gender by Location')\n",
    "plt.xlabel('Gender')\n",
    "plt.ylabel('Count')\n",
    "plt.legend(title='Location')\n",
    "#plt.bar_label()\n",
    "plt.tight_layout()\n",
    "plt.show()"
   ]
  },
  {
   "cell_type": "markdown",
   "id": "ea1c52a6-6f96-4296-9dfd-bdf1cafd59fb",
   "metadata": {},
   "source": [
    "## Hypothesis Testing"
   ]
  },
  {
   "cell_type": "code",
   "execution_count": 61,
   "id": "be674712-41d1-43a9-9f7a-5bc055650266",
   "metadata": {},
   "outputs": [
    {
     "name": "stdout",
     "output_type": "stream",
     "text": [
      "ShapiroResult(statistic=0.8755320418237221, pvalue=7.280303182056858e-27)\n",
      "\n",
      "1-Sample T-Test for total bill amount (mean vs 200,000): Statistic=54.9732, \n",
      "p-value=0.0000\n",
      "\n",
      "One-Sample Wilcoxon Test for total bill amount (median vs 200,000): \n",
      "Statistic=0.0000000000, p-value=0.0000\n",
      "\n",
      "The p-value is less than 0.05 so the data is not normally distributed. \n",
      "Hence we are going to consider the results of the Wilcoxon test. \n",
      "The p-value from the wilcoxon test is less than 0.05 so we reject the null hypothesis.\n"
     ]
    }
   ],
   "source": [
    "#Testing if average total bill equals 200,000 UGX\n",
    "\n",
    "#load the cleaned data set\n",
    "df = pd.read_csv('cleaned_gb_restaurant_project_data.csv')\n",
    "df_clean = df.dropna(subset = ['total_bill_amt']) \n",
    "\n",
    "#testing for normality\n",
    "norm = stats.shapiro(df_clean['total_bill_amt'])\n",
    "print (norm)\n",
    "\n",
    "#carrying out a 1 sample t-test\n",
    "t_stat, t_p = stats.ttest_1samp(df_clean['total_bill_amt'], popmean=200000)\n",
    "print (f'\\n1-Sample T-Test for total bill amount (mean vs 200,000): Statistic={t_stat:.4f}, \\np-value={t_p:.4f}')\n",
    "\n",
    "#carrying out a one sample Wilcoxon signed rank test\n",
    "w_stat, w_p = stats.wilcoxon(df_clean['total_bill_amt'] - 200000)\n",
    "print (f'\\nOne-Sample Wilcoxon Test for total bill amount (median vs 200,000): \\nStatistic={w_stat:.10f}, p-value={w_p:.4f}')\n",
    "\n",
    "print ('\\nThe p-value is less than 0.05 so the data is not normally distributed. \\nHence we are going to consider the results of the Wilcoxon test. \\nThe p-value from the wilcoxon test is less than 0.05 so we reject the null hypothesis.')"
   ]
  },
  {
   "cell_type": "code",
   "execution_count": 62,
   "id": "f58c0a04-c87a-4dd5-ae91-6fec7aa870d9",
   "metadata": {},
   "outputs": [],
   "source": [
    "#Using paired t-test to compare total bill vs tip amount \n",
    "\n",
    "#clean the data\n",
    "df_clean = df.dropna(subset= ['total_bill_amt', 'tip_amount_ugx'])\n",
    "\n",
    "#Paired sample t-test\n",
    "t_stat, t_p = stats.ttest_rel(df_clean['total_bill_amt'], df_clean['tip_amount_ugx'])\n"
   ]
  }
 ],
 "metadata": {
  "kernelspec": {
   "display_name": "Python 3 (ipykernel)",
   "language": "python",
   "name": "python3"
  },
  "language_info": {
   "codemirror_mode": {
    "name": "ipython",
    "version": 3
   },
   "file_extension": ".py",
   "mimetype": "text/x-python",
   "name": "python",
   "nbconvert_exporter": "python",
   "pygments_lexer": "ipython3",
   "version": "3.12.7"
  }
 },
 "nbformat": 4,
 "nbformat_minor": 5
}
