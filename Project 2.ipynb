{
 "cells": [
  {
   "cell_type": "markdown",
   "id": "83fdaa06-a2d0-44f0-9b36-6b2f2a455224",
   "metadata": {},
   "source": [
    "# Project 2 AssignmentStatistical Analysis of Ugandan Restaurant Data (UGX)"
   ]
  },
  {
   "cell_type": "code",
   "execution_count": 88,
   "id": "87e4f9de-ae70-4b7f-bd5f-a926609c4887",
   "metadata": {},
   "outputs": [],
   "source": [
    "# import the necessary packages\n",
    "import pandas as pd\n",
    "import numpy as py\n",
    "import seaborn as sns\n",
    "import matplotlib.pyplot as plt\n",
    "pd.set_option('display.float_format', '{:.2f}'.format)"
   ]
  },
  {
   "cell_type": "markdown",
   "id": "4f189482-503c-4200-9396-a2cc124ae522",
   "metadata": {},
   "source": [
    "# Loading our dataset"
   ]
  },
  {
   "cell_type": "code",
   "execution_count": 89,
   "id": "e8279147-b1b4-463a-9638-d4034b5eebb3",
   "metadata": {},
   "outputs": [],
   "source": [
    "# load the dataset\n",
    "df = pd.read_csv('gb_restaurant_project_data.csv',col_index=\"CustomerID\")"
   ]
  },
  {
   "cell_type": "code",
   "execution_count": 90,
   "id": "0a5da8ac-bc80-4ed4-ba78-8a9d421cb526",
   "metadata": {},
   "outputs": [
    {
     "data": {
      "text/html": [
       "<div>\n",
       "<style scoped>\n",
       "    .dataframe tbody tr th:only-of-type {\n",
       "        vertical-align: middle;\n",
       "    }\n",
       "\n",
       "    .dataframe tbody tr th {\n",
       "        vertical-align: top;\n",
       "    }\n",
       "\n",
       "    .dataframe thead th {\n",
       "        text-align: right;\n",
       "    }\n",
       "</style>\n",
       "<table border=\"1\" class=\"dataframe\">\n",
       "  <thead>\n",
       "    <tr style=\"text-align: right;\">\n",
       "      <th></th>\n",
       "      <th>CustomerID</th>\n",
       "      <th>Total_Bill_Amt</th>\n",
       "      <th>Tip_Amount_UGX</th>\n",
       "      <th>Gender_Cat</th>\n",
       "      <th>Location_City</th>\n",
       "      <th>Meal_Type</th>\n",
       "      <th>Visit_Date</th>\n",
       "      <th>Party_Size</th>\n",
       "    </tr>\n",
       "  </thead>\n",
       "  <tbody>\n",
       "    <tr>\n",
       "      <th>0</th>\n",
       "      <td>CUST001</td>\n",
       "      <td>254831310.17</td>\n",
       "      <td>14875556.00</td>\n",
       "      <td>Male</td>\n",
       "      <td>Gulu</td>\n",
       "      <td>NaN</td>\n",
       "      <td>2024-10-17</td>\n",
       "      <td>4</td>\n",
       "    </tr>\n",
       "    <tr>\n",
       "      <th>1</th>\n",
       "      <td>CUST002</td>\n",
       "      <td>185510701.50</td>\n",
       "      <td>10245458.00</td>\n",
       "      <td>Male</td>\n",
       "      <td>Kampala</td>\n",
       "      <td>Vegetarian</td>\n",
       "      <td>2024-02-10</td>\n",
       "      <td>8</td>\n",
       "    </tr>\n",
       "    <tr>\n",
       "      <th>2</th>\n",
       "      <td>CUST003</td>\n",
       "      <td>274812484.37</td>\n",
       "      <td>22485573.00</td>\n",
       "      <td>Male</td>\n",
       "      <td>Entebbe</td>\n",
       "      <td>Non-Vegetarian</td>\n",
       "      <td>2024-02-13</td>\n",
       "      <td>6</td>\n",
       "    </tr>\n",
       "    <tr>\n",
       "      <th>3</th>\n",
       "      <td>CUST004</td>\n",
       "      <td>425710547.44</td>\n",
       "      <td>36323236.00</td>\n",
       "      <td>Male</td>\n",
       "      <td>Mbarara</td>\n",
       "      <td>NaN</td>\n",
       "      <td>2024-09-05</td>\n",
       "      <td>3</td>\n",
       "    </tr>\n",
       "    <tr>\n",
       "      <th>4</th>\n",
       "      <td>CUST005</td>\n",
       "      <td>176826324.55</td>\n",
       "      <td>9120579.00</td>\n",
       "      <td>Female</td>\n",
       "      <td>Entebbe</td>\n",
       "      <td>Kids Meal</td>\n",
       "      <td>2024-02-05</td>\n",
       "      <td>4</td>\n",
       "    </tr>\n",
       "  </tbody>\n",
       "</table>\n",
       "</div>"
      ],
      "text/plain": [
       "  CustomerID  Total_Bill_Amt  Tip_Amount_UGX Gender_Cat Location_City  \\\n",
       "0    CUST001    254831310.17     14875556.00       Male          Gulu   \n",
       "1    CUST002    185510701.50     10245458.00       Male       Kampala   \n",
       "2    CUST003    274812484.37     22485573.00       Male       Entebbe   \n",
       "3    CUST004    425710547.44     36323236.00       Male       Mbarara   \n",
       "4    CUST005    176826324.55      9120579.00     Female       Entebbe   \n",
       "\n",
       "        Meal_Type  Visit_Date  Party_Size  \n",
       "0             NaN  2024-10-17           4  \n",
       "1      Vegetarian  2024-02-10           8  \n",
       "2  Non-Vegetarian  2024-02-13           6  \n",
       "3             NaN  2024-09-05           3  \n",
       "4       Kids Meal  2024-02-05           4  "
      ]
     },
     "execution_count": 90,
     "metadata": {},
     "output_type": "execute_result"
    }
   ],
   "source": [
    "# Explore the first few lines of the dataset\n",
    "df.head()"
   ]
  },
  {
   "cell_type": "code",
   "execution_count": 91,
   "id": "76527552-1507-47fe-a649-0caf2f2c3c97",
   "metadata": {},
   "outputs": [
    {
     "data": {
      "text/plain": [
       "(1000, 8)"
      ]
     },
     "execution_count": 91,
     "metadata": {},
     "output_type": "execute_result"
    }
   ],
   "source": [
    "# Finding how many records and columns are there in the dataset \n",
    "df.shape"
   ]
  },
  {
   "cell_type": "markdown",
   "id": "9a85fbb0-af1a-4567-9c3d-a897fcbfd506",
   "metadata": {},
   "source": [
    "# 1. Data Cleaning"
   ]
  },
  {
   "cell_type": "markdown",
   "id": "79f6e051-e5a2-46ac-9e81-8a8a3d900d07",
   "metadata": {},
   "source": [
    "# Handling missing values"
   ]
  },
  {
   "cell_type": "code",
   "execution_count": 92,
   "id": "dd2dd80f-1840-4bb3-aa9c-d4ee50bcdd7c",
   "metadata": {},
   "outputs": [
    {
     "name": "stdout",
     "output_type": "stream",
     "text": [
      "Columns with missing values\n"
     ]
    },
    {
     "data": {
      "text/plain": [
       "Index(['Total_Bill_Amt', 'Tip_Amount_UGX', 'Meal_Type'], dtype='object')"
      ]
     },
     "execution_count": 92,
     "metadata": {},
     "output_type": "execute_result"
    }
   ],
   "source": [
    "# Find out which colums contain Null values\n",
    "print(\"Columns with missing values\")\n",
    "df.columns[df.isnull().any()]"
   ]
  },
  {
   "cell_type": "code",
   "execution_count": 93,
   "id": "66e1f42d-bb0c-4340-9ab2-55032b5cd351",
   "metadata": {},
   "outputs": [
    {
     "name": "stdout",
     "output_type": "stream",
     "text": [
      "No. of missing values per column\n",
      "Total_Bill_Amt     50\n",
      "Tip_Amount_UGX     50\n",
      "Meal_Type         100\n",
      "dtype: int64\n"
     ]
    }
   ],
   "source": [
    "# Count the number of missing values per column\n",
    "print(\"No. of missing values per column\")\n",
    "null_columns = df.isnull().sum()\n",
    "print(null_columns[null_columns > 0])"
   ]
  },
  {
   "cell_type": "code",
   "execution_count": 94,
   "id": "8f45bbb6-cc2b-4c5d-b5d0-9ec3da6c879d",
   "metadata": {},
   "outputs": [],
   "source": [
    "# Filling in the missing values of Meal_Type with Unknown value\n",
    "df['Meal_Type'] = df['Meal_Type'].fillna('Unknown')\n",
    "\n",
    "# Filling in the missing values of Total_Bill_Amt with the median value\n",
    "df['Total_Bill_Amt'] = df['Total_Bill_Amt'].fillna(df['Total_Bill_Amt'].median())\n",
    "\n",
    "# Filling in the missing values of Tip_Amount_UGX with the median value\n",
    "df['Tip_Amount_UGX'] = df['Tip_Amount_UGX'].fillna(df['Tip_Amount_UGX'].median())"
   ]
  },
  {
   "cell_type": "markdown",
   "id": "e61f3f7a-903a-4b34-ba0e-c374cfb43c6f",
   "metadata": {},
   "source": [
    "# Detect and address outliers"
   ]
  },
  {
   "cell_type": "code",
   "execution_count": 95,
   "id": "16d61d29-836f-452d-ab1f-18c5ce4e062f",
   "metadata": {},
   "outputs": [
    {
     "name": "stdout",
     "output_type": "stream",
     "text": [
      "Mean Total Bill:\t 220453428.92292193 \n",
      "Median Total Bill:\t 200629073.77308786 \n",
      "Standard Deviation:\t 121016132.10125135\n",
      "Outliers for the Total Bill: 42\n"
     ]
    }
   ],
   "source": [
    "# Calculate mean, median, and standard deviation\n",
    "mean_total_bill = df[\"Total_Bill_Amt\"].mean()\n",
    "median_total_bill = df[\"Total_Bill_Amt\"].median()\n",
    "std_total_bill = df[\"Total_Bill_Amt\"].std()\n",
    "\n",
    "# Detect outliers using IQR method\n",
    "Q1 = df['Total_Bill_Amt'].quantile(0.25)\n",
    "Q3 = df['Total_Bill_Amt'].quantile(0.75)\n",
    "IQR = Q3 - Q1\n",
    "lower_bound = Q1 - 1.5 * IQR\n",
    "upper_bound = Q3 + 1.5 * IQR\n",
    "outliers = df[(df[\"Total_Bill_Amt\"] < lower_bound) | (df[\"Total_Bill_Amt\"] > upper_bound)]\n",
    "\n",
    "print('Mean Total Bill:\\t',mean_total_bill,'\\nMedian Total Bill:\\t', median_total_bill,'\\nStandard Deviation:\\t',std_total_bill) \n",
    "print('Outliers for the Total Bill:', len(outliers))"
   ]
  },
  {
   "cell_type": "markdown",
   "id": "5dc717a4-5056-4f8c-854b-6298543af4eb",
   "metadata": {},
   "source": [
    "# Standardise categories"
   ]
  },
  {
   "cell_type": "code",
   "execution_count": 96,
   "id": "767deb8b-79ca-42e9-8a51-637594b5fa9d",
   "metadata": {},
   "outputs": [
    {
     "name": "stdout",
     "output_type": "stream",
     "text": [
      "Mispelt records in the Gender_Cat field\n",
      "Gender_Cat\n",
      "Male      467\n",
      "Female    436\n",
      "F          57\n",
      "M          40\n",
      "Name: count, dtype: int64\n",
      "\n",
      "\n",
      "---------------------------------------\n",
      "\n",
      "\n",
      "Mispelt records in the Location_City field\n",
      "Location_City\n",
      "Kampala     305\n",
      "Entebbe     201\n",
      "Mbarara     152\n",
      "Gulu        150\n",
      "Arua        148\n",
      "Kampalla     44\n",
      "Name: count, dtype: int64\n",
      "\n",
      "\n",
      "---------------------------------------\n",
      "\n",
      "\n",
      "Mispelt records in the Meal_Type field\n",
      "Meal_Type\n",
      "Non-Vegetarian    445\n",
      "Special           182\n",
      "Vegetarian        181\n",
      "Unknown           100\n",
      "Kids Meal          92\n",
      "Name: count, dtype: int64\n"
     ]
    }
   ],
   "source": [
    "# Checking for mispelt values in the columns of our dataset\n",
    "print(\"Mispelt records in the Gender_Cat field\")\n",
    "print(df['Gender_Cat'].value_counts())\n",
    "print(\"\\n\\n---------------------------------------\\n\\n\")\n",
    "print(\"Mispelt records in the Location_City field\")\n",
    "print(df['Location_City'].value_counts())\n",
    "print(\"\\n\\n---------------------------------------\\n\\n\")\n",
    "print(\"Mispelt records in the Meal_Type field\")\n",
    "print(df['Meal_Type'].value_counts())"
   ]
  },
  {
   "cell_type": "code",
   "execution_count": 97,
   "id": "82d7f50b-245e-41d9-9c1c-950fb03ba2fe",
   "metadata": {},
   "outputs": [],
   "source": [
    "# Unifying the category values in the Gender_Cat column, by stripping, replacing wrongly entered values\n",
    "df['Gender_Cat'] = df['Gender_Cat'].str.strip().str.title().replace(['M','F'],['Male','Female'])\n",
    "\n",
    "# Unifying the city values in the Location_City column, by stripping, replacing wrongly entered values\n",
    "df['Location_City'] = df['Location_City'].str.strip().str.title().replace(['Kampalla'],['Kampala'])"
   ]
  },
  {
   "cell_type": "markdown",
   "id": "9c2ea3e8-05a5-4e13-8b3f-dd3c02ef9028",
   "metadata": {},
   "source": [
    "# Remove columns where necessary"
   ]
  },
  {
   "cell_type": "code",
   "execution_count": 98,
   "id": "1c8f7925-776a-4816-9c49-f871ead12c32",
   "metadata": {},
   "outputs": [],
   "source": [
    "# Renaming columns"
   ]
  },
  {
   "cell_type": "code",
   "execution_count": 99,
   "id": "0656b691-0c37-442c-94b5-6091dfef9a77",
   "metadata": {},
   "outputs": [],
   "source": [
    "# Renaming the columns to standardize our naming\n",
    "#df.rename(columns={'CustomerID': 'Customer_ID'}, inplace=True)\n",
    "df = df.rename(columns={'CustomerID': 'Customer_ID', 'Total_Bill_Amt': 'Total_Bill_Amount(UGX)', 'Tip_Amount_UGX': 'Tip_Amount(UGX)', 'Gender_Cat': 'Gender_Category'}) # Assigning to df again without using inplace=True"
   ]
  },
  {
   "cell_type": "code",
   "execution_count": 100,
   "id": "2b7d592f-b7b8-42b6-a58f-85fcf9494306",
   "metadata": {},
   "outputs": [
    {
     "data": {
      "text/plain": [
       "Index(['Customer_ID', 'Total_Bill_Amount(UGX)', 'Tip_Amount(UGX)',\n",
       "       'Gender_Category', 'Location_City', 'Meal_Type', 'Visit_Date',\n",
       "       'Party_Size'],\n",
       "      dtype='object')"
      ]
     },
     "execution_count": 100,
     "metadata": {},
     "output_type": "execute_result"
    }
   ],
   "source": [
    "# Listing the columns\n",
    "df.columns"
   ]
  },
  {
   "cell_type": "markdown",
   "id": "d0ef436b-37a2-4836-9155-ff739e4aaa47",
   "metadata": {},
   "source": [
    "# Save the clean dataset"
   ]
  },
  {
   "cell_type": "code",
   "execution_count": 101,
   "id": "ced74d14-e445-4a24-9304-361a57b7a54a",
   "metadata": {},
   "outputs": [],
   "source": [
    "# Saving our cleaned dataset\n",
    "df.to_excel(\"gb_restaurant_project_data_clean.xlsx\")"
   ]
  },
  {
   "cell_type": "markdown",
   "id": "b60fac56-1553-40d3-8af3-62316dbbc436",
   "metadata": {},
   "source": [
    "# Convert Visit_Date to datetime format"
   ]
  },
  {
   "cell_type": "code",
   "execution_count": 102,
   "id": "42e2ff4a-95cb-44b1-8c1e-7d6ee32c636d",
   "metadata": {},
   "outputs": [],
   "source": [
    "# Converting our Visit_Date to datetime format\n",
    "df['Visit_Date'] = pd.to_datetime(df['Visit_Date'], errors='coerce')"
   ]
  },
  {
   "cell_type": "code",
   "execution_count": null,
   "id": "65016ea6-0d2e-40a4-ad1b-0879dae515a9",
   "metadata": {},
   "outputs": [],
   "source": []
  },
  {
   "cell_type": "code",
   "execution_count": null,
   "id": "22e104b4-d36c-4f4b-8187-2bf9da641a86",
   "metadata": {},
   "outputs": [],
   "source": []
  },
  {
   "cell_type": "code",
   "execution_count": null,
   "id": "b832b4a7-792d-4e12-a3b8-d1a1efe51d43",
   "metadata": {},
   "outputs": [],
   "source": []
  },
  {
   "cell_type": "markdown",
   "id": "a38c4b16-f8ad-46e8-9ffb-3855cb628979",
   "metadata": {},
   "source": [
    "# 2. Descriptive Statistics"
   ]
  },
  {
   "cell_type": "code",
   "execution_count": 103,
   "id": "ec5bb772-e74a-413a-8b16-d240dfb6c53b",
   "metadata": {},
   "outputs": [
    {
     "name": "stdout",
     "output_type": "stream",
     "text": [
      "\n",
      "Description of Total_Bill_Amount\n",
      "count         1000.00\n",
      "mean     220453428.92\n",
      "std      121016132.10\n",
      "min        5032493.80\n",
      "25%      143484669.64\n",
      "50%      200629073.77\n",
      "75%      269992535.48\n",
      "max     1364591596.77\n",
      "Name: Total_Bill_Amount(UGX), dtype: float64\n",
      "\n",
      "No of missing values:  0\n",
      "Total number of records:  1000\n",
      "\n",
      "\n",
      "---------------------------------------\n",
      "\n",
      "\n",
      "Description of Tip_Amount\n",
      "count       1000.00\n",
      "mean    16600013.34\n",
      "std      9780664.40\n",
      "min       122375.00\n",
      "25%     10094832.00\n",
      "50%     14781722.50\n",
      "75%     20666478.25\n",
      "max     95441091.00\n",
      "Name: Tip_Amount(UGX), dtype: float64\n",
      "\n",
      "No of missing values:  0\n",
      "Total number of records:  1000\n",
      "\n",
      "\n",
      "---------------------------------------\n",
      "\n",
      "\n",
      "Description of Party_Size\n",
      "count   1000.00\n",
      "mean       7.00\n",
      "std       11.22\n",
      "min        1.00\n",
      "25%        3.00\n",
      "50%        6.00\n",
      "75%        8.00\n",
      "max      100.00\n",
      "Name: Party_Size, dtype: float64\n",
      "\n",
      "No of missing values:  0\n",
      "Total number of records:  1000\n"
     ]
    }
   ],
   "source": [
    "# Handle missing values (impute or drop)\n",
    "# Displaying information about the 'Total_Bill_Amt' column\n",
    "total_bill_info = df['Total_Bill_Amount(UGX)'].describe(include='all')\n",
    "missing_count = df['Total_Bill_Amount(UGX)'].isna().sum()\n",
    "total_rows = len(df)\n",
    "print('\\nDescription of Total_Bill_Amount')\n",
    "print(total_bill_info)\n",
    "print('\\nNo of missing values: ',missing_count)\n",
    "print('Total number of records: ', total_rows)\n",
    "\n",
    "print(\"\\n\\n---------------------------------------\\n\")\n",
    "\n",
    "# Handle missing values (impute or drop)\n",
    "# Displaying information about the 'Tip_Amount_UGX' column\n",
    "tip_amount_info = df['Tip_Amount(UGX)'].describe(include='all')\n",
    "missing_count = df['Tip_Amount(UGX)'].isna().sum()\n",
    "total_rows = len(df)\n",
    "print('\\nDescription of Tip_Amount')\n",
    "print(tip_amount_info)\n",
    "print('\\nNo of missing values: ',missing_count)\n",
    "print('Total number of records: ', total_rows)\n",
    "\n",
    "print(\"\\n\\n---------------------------------------\\n\")\n",
    "\n",
    "# Handle missing values (impute or drop)\n",
    "# Displaying information about the 'Party_Size' column\n",
    "party_size_info = df['Party_Size'].describe(include='all')\n",
    "missing_count = df['Party_Size'].isna().sum()\n",
    "total_rows = len(df)\n",
    "print('\\nDescription of Party_Size')\n",
    "print(party_size_info)\n",
    "print('\\nNo of missing values: ',missing_count)\n",
    "print('Total number of records: ', total_rows)"
   ]
  },
  {
   "cell_type": "code",
   "execution_count": 104,
   "id": "1120b4cd-2584-4dc6-8582-84858a3247e3",
   "metadata": {},
   "outputs": [
    {
     "name": "stdout",
     "output_type": "stream",
     "text": [
      "Measures for Total_Bill in (UGX'000)\n",
      "count      1000.00\n",
      "mean     220453.43\n",
      "std      121016.13\n",
      "min        5032.49\n",
      "25%      143484.67\n",
      "50%      200629.07\n",
      "75%      269992.54\n",
      "max     1364591.60\n",
      "Name: Total_Bill_Amount(UGX'000), dtype: float64\n",
      "\n",
      "Number of missing values :  0\n",
      "\n",
      "Total records :  1000\n",
      "\n",
      " Percent of missing values: 0.0%\n",
      "\n",
      "\n",
      "---------------------------------------\n",
      "\n",
      "\n",
      "Measures for Tip_Amount in (UGX'000)\n",
      "count    1000.00\n",
      "mean    16600.01\n",
      "std      9780.66\n",
      "min       122.38\n",
      "25%     10094.83\n",
      "50%     14781.72\n",
      "75%     20666.48\n",
      "max     95441.09\n",
      "Name: Tip_Amount(UGX'000), dtype: float64\n",
      "\n",
      "Number of missing values :  0\n",
      "\n",
      "Total records :  1000\n",
      "\n",
      " Percent of missing values: 0.0%\n",
      "\n",
      "\n",
      "---------------------------------------\n",
      "\n",
      "\n",
      "Measures for Party Size\n",
      "count   1000.00\n",
      "mean       7.00\n",
      "std       11.22\n",
      "min        1.00\n",
      "25%        3.00\n",
      "50%        6.00\n",
      "75%        8.00\n",
      "max      100.00\n",
      "Name: Party_Size, dtype: float64\n",
      "\n",
      "Number of missing values :  0\n",
      "\n",
      "Total records :  1000\n",
      "\n",
      " Percent of missing values: 0.0%\n"
     ]
    },
    {
     "data": {
      "text/plain": [
       "dtype('int64')"
      ]
     },
     "execution_count": 104,
     "metadata": {},
     "output_type": "execute_result"
    }
   ],
   "source": [
    "# Handling missing values in the Total_Bill_Amt column\n",
    "# Changing Total_Bill_Amt to thousands\n",
    "print (\"Measures for Total_Bill in (UGX'000)\")\n",
    "df[\"Total_Bill_Amount(UGX'000)\"] = df['Total_Bill_Amount(UGX)']/1000 \n",
    "\n",
    "total_bill_info = df[\"Total_Bill_Amount(UGX'000)\"].describe()\n",
    "total_bill_missing = df[\"Total_Bill_Amount(UGX'000)\"].isnull().sum()\n",
    "total_bill_dtypes = df[\"Total_Bill_Amount(UGX'000)\"].dtype\n",
    "total_bill_records = len(df[\"Total_Bill_Amount(UGX'000)\"])\n",
    "print(total_bill_info)\n",
    "print('\\nNumber of missing values : ',total_bill_missing)\n",
    "print('\\nTotal records : ',total_bill_records)\n",
    "print(f'\\n Percent of missing values: {round(total_bill_missing/total_bill_records*100,2)}%')\n",
    "total_bill_dtypes\n",
    "\n",
    "print(\"\\n\\n---------------------------------------\\n\\n\")\n",
    "print (\"Measures for Tip_Amount in (UGX'000)\")\n",
    "df[\"Tip_Amount(UGX'000)\"] = df['Tip_Amount(UGX)']/1000 \n",
    "\n",
    "tip_amount_info = df[\"Tip_Amount(UGX'000)\"].describe()\n",
    "tip_amount_missing = df[\"Tip_Amount(UGX'000)\"].isnull().sum()\n",
    "tip_amount_dtype = df[\"Tip_Amount(UGX'000)\"].dtype\n",
    "tip_amount_records = len(df[\"Tip_Amount(UGX'000)\"])\n",
    "print(tip_amount_info)\n",
    "print('\\nNumber of missing values : ',tip_amount_missing)\n",
    "print('\\nTotal records : ',tip_amount_records)\n",
    "print(f'\\n Percent of missing values: {round(tip_amount_missing/tip_amount_records*100,2)}%')\n",
    "tip_amount_dtype\n",
    "\n",
    "print(\"\\n\\n---------------------------------------\\n\\n\")\n",
    "print (\"Measures for Party Size\")\n",
    "\n",
    "party_size_info = df[\"Party_Size\"].describe()\n",
    "party_size_missing = df[\"Party_Size\"].isnull().sum()\n",
    "party_size_dtype = df[\"Party_Size\"].dtype\n",
    "party_size_records = len(df[\"Party_Size\"])\n",
    "print(party_size_info)\n",
    "print('\\nNumber of missing values : ',party_size_missing)\n",
    "print('\\nTotal records : ',party_size_records)\n",
    "print(f'\\n Percent of missing values: {round(party_size_missing/party_size_records*100,2)}%')\n",
    "party_size_dtype"
   ]
  },
  {
   "cell_type": "code",
   "execution_count": 105,
   "id": "9ec4f034-f19c-458e-9eb5-19d1b33aa6f8",
   "metadata": {},
   "outputs": [
    {
     "name": "stdout",
     "output_type": "stream",
     "text": [
      "Count of Gender Categories\n",
      "Gender_Category\n",
      "Male      507\n",
      "Female    493\n",
      "Name: count, dtype: int64\n",
      "\n",
      "\n",
      "Gender Category By Percentage\n"
     ]
    },
    {
     "data": {
      "text/plain": [
       "Gender_Category\n",
       "Male     50.70\n",
       "Female   49.30\n",
       "Name: count, dtype: float64"
      ]
     },
     "execution_count": 105,
     "metadata": {},
     "output_type": "execute_result"
    }
   ],
   "source": [
    "# Confirming that the Gender column values are updated\n",
    "print(\"Count of Gender Categories\")\n",
    "print(df['Gender_Category'].value_counts())\n",
    "\n",
    "print(\"\\n\\nGender Category By Percentage\")\n",
    "gender_by_percentage = ((df['Gender_Category'].value_counts())/len(df))*100\n",
    "gender_by_percentage"
   ]
  },
  {
   "cell_type": "code",
   "execution_count": 106,
   "id": "41127e29-59b4-4e9f-a7be-87d2b105f729",
   "metadata": {},
   "outputs": [
    {
     "name": "stdout",
     "output_type": "stream",
     "text": [
      "Count of Location Cities\n",
      "Location_City\n",
      "Kampala    349\n",
      "Entebbe    201\n",
      "Mbarara    152\n",
      "Gulu       150\n",
      "Arua       148\n",
      "Name: count, dtype: int64\n",
      "\n",
      "Location By Percentage\n"
     ]
    },
    {
     "data": {
      "text/plain": [
       "Location_City\n",
       "Kampala   34.90\n",
       "Entebbe   20.10\n",
       "Mbarara   15.20\n",
       "Gulu      15.00\n",
       "Arua      14.80\n",
       "Name: count, dtype: float64"
      ]
     },
     "execution_count": 106,
     "metadata": {},
     "output_type": "execute_result"
    }
   ],
   "source": [
    "# Confirming that the Location_City column values are updated\n",
    "print(\"Count of Location Cities\")\n",
    "print(df['Location_City'].value_counts())\n",
    "\n",
    "print(\"\\nLocation By Percentage\")\n",
    "location_by_percentage = ((df['Location_City'].value_counts())/len(df))*100\n",
    "location_by_percentage"
   ]
  },
  {
   "cell_type": "code",
   "execution_count": 107,
   "id": "f026dcd6-4257-40e2-8fb4-2a48f842b245",
   "metadata": {},
   "outputs": [
    {
     "name": "stdout",
     "output_type": "stream",
     "text": [
      "Count of Meal Types\n",
      "Meal_Type\n",
      "Non-Vegetarian    445\n",
      "Special           182\n",
      "Vegetarian        181\n",
      "Unknown           100\n",
      "Kids Meal          92\n",
      "Name: count, dtype: int64\n",
      "\n",
      "Meal Type By Percentage\n"
     ]
    },
    {
     "data": {
      "text/plain": [
       "Meal_Type\n",
       "Non-Vegetarian   44.50\n",
       "Special          18.20\n",
       "Vegetarian       18.10\n",
       "Unknown          10.00\n",
       "Kids Meal         9.20\n",
       "Name: count, dtype: float64"
      ]
     },
     "execution_count": 107,
     "metadata": {},
     "output_type": "execute_result"
    }
   ],
   "source": [
    "# Confirming that the Meal_Type column values are updated\n",
    "print(\"Count of Meal Types\")\n",
    "print(df['Meal_Type'].value_counts())\n",
    "\n",
    "print(\"\\nMeal Type By Percentage\")\n",
    "meal_type_by_percentage = ((df['Meal_Type'].value_counts())/len(df))*100\n",
    "meal_type_by_percentage"
   ]
  },
  {
   "cell_type": "markdown",
   "id": "041c2bed-b025-4ab5-8949-17cd8d6d09d9",
   "metadata": {},
   "source": [
    "# Visualization the distribution"
   ]
  },
  {
   "cell_type": "code",
   "execution_count": 108,
   "id": "881d5b4f-2a2d-4f79-aedd-bb9caa91de5f",
   "metadata": {},
   "outputs": [
    {
     "data": {
      "image/png": "[encoded data removed]",
      "text/plain": [
       "<Figure size 800x600 with 1 Axes>"
      ]
     },
     "metadata": {},
     "output_type": "display_data"
    }
   ],
   "source": [
    "plt.figure(figsize=(8,6))\n",
    "sns.histplot(df[\"Total_Bill_Amount(UGX'000)\"], bins=10, kde=True)\n",
    "plt.title('Histogram: Distribution of Total Bill Amount')\n",
    "plt.xlabel('Total_Bill_Amount (Thousands)')\n",
    "plt.ylabel('Frequency')\n",
    "plt.grid(True)\n",
    "plt.show()"
   ]
  },
  {
   "cell_type": "code",
   "execution_count": 109,
   "id": "e4ff712f-3563-441e-8de6-3d57df193e96",
   "metadata": {},
   "outputs": [
    {
     "data": {
      "image/png": "[encoded data removed]",
      "text/plain": [
       "<Figure size 600x400 with 1 Axes>"
      ]
     },
     "metadata": {},
     "output_type": "display_data"
    }
   ],
   "source": [
    "# Create a bar chart showing average bill by location\n",
    "# Group by Location and compute average total bill amount in thousands\n",
    "avg_bill_by_location = (\n",
    "    df.groupby('Location_City')[\"Total_Bill_Amount(UGX'000)\"]\n",
    "    .mean()\n",
    "    .sort_values(ascending=False)\n",
    "    .round(2)\n",
    ")\n",
    "\n",
    "# Plot bar chart\n",
    "plt.figure(figsize=(6, 4))\n",
    "sns.barplot(x=avg_bill_by_location.index, y=avg_bill_by_location.values)\n",
    "plt.xticks(rotation=45)\n",
    "plt.title('Average Total Bill Amount (in Thousands UGX) by Location')\n",
    "plt.xlabel('Location_City')\n",
    "plt.ylabel('Average Total Bill Amount (Thousands UGX)')\n",
    "plt.grid(axis='y')\n",
    "plt.tight_layout()\n",
    "plt.show()"
   ]
  },
  {
   "cell_type": "code",
   "execution_count": 110,
   "id": "f7d4cb9e-6840-4b46-b76a-19ecf4830ded",
   "metadata": {},
   "outputs": [
    {
     "data": {
      "image/png": "[encoded data removed]",
      "text/plain": [
       "<Figure size 600x400 with 1 Axes>"
      ]
     },
     "metadata": {},
     "output_type": "display_data"
    }
   ],
   "source": [
    "# Create a bar chart showing average tip amount by location\n",
    "# Group by Location and compute average tip amount in thousands\n",
    "avg_tip_amt_by_location = (\n",
    "    df.groupby('Location_City')[\"Tip_Amount(UGX'000)\"]\n",
    "    .mean()\n",
    "    .sort_values(ascending=False)\n",
    "    .round(2)\n",
    ")\n",
    "\n",
    "# Plot bar chart\n",
    "plt.figure(figsize=(6, 4))\n",
    "sns.barplot(x=avg_tip_amt_by_location.index, y=avg_tip_amt_by_location.values)\n",
    "plt.xticks(rotation=45)\n",
    "plt.title('Average Tip Amount (in Thousands UGX) by Location')\n",
    "plt.xlabel('Location_City')\n",
    "plt.ylabel('Average Tip Amount (Thousands UGX)')\n",
    "plt.grid(axis='y')\n",
    "plt.tight_layout()\n",
    "plt.show()"
   ]
  },
  {
   "cell_type": "code",
   "execution_count": 111,
   "id": "974e0a7e-e37b-4b68-a439-c00b8b0c7de8",
   "metadata": {},
   "outputs": [
    {
     "data": {
      "image/png": "[encoded data removed]",
      "text/plain": [
       "<Figure size 600x400 with 1 Axes>"
      ]
     },
     "metadata": {},
     "output_type": "display_data"
    }
   ],
   "source": [
    "# Create a bar chart showing average bill by location\n",
    "# Group by Location and compute average total bill amount in thousands\n",
    "avg_bill_by_location = (\n",
    "    df.groupby('Gender_Category')[\"Total_Bill_Amount(UGX'000)\"]\n",
    "    .mean()\n",
    "    .sort_values(ascending=False)\n",
    "    .round(2)\n",
    ")\n",
    "\n",
    "# Plot bar chart\n",
    "plt.figure(figsize=(6, 4))\n",
    "sns.barplot(x=avg_bill_by_location.index, y=avg_bill_by_location.values)\n",
    "plt.xticks(rotation=45)\n",
    "plt.title('Average Total Bill Amount (in Thousands UGX) by Gender')\n",
    "plt.xlabel('Location_City')\n",
    "plt.ylabel('Average Total Bill Amount (Thousands UGX)')\n",
    "plt.grid(axis='y')\n",
    "plt.tight_layout()\n",
    "plt.show()"
   ]
  },
  {
   "cell_type": "code",
   "execution_count": 112,
   "id": "80e60073-17ed-488d-be5b-4af3a307bc22",
   "metadata": {},
   "outputs": [
    {
     "data": {
      "image/png": "[encoded data removed]",
      "text/plain": [
       "<Figure size 600x400 with 1 Axes>"
      ]
     },
     "metadata": {},
     "output_type": "display_data"
    }
   ],
   "source": [
    "# Create a bar chart showing average tip amount by location\n",
    "# Group by Location and compute average tip amount in thousands\n",
    "avg_tip_amt_by_location = (\n",
    "    df.groupby('Gender_Category')[\"Tip_Amount(UGX'000)\"]\n",
    "    .mean()\n",
    "    .sort_values(ascending=False)\n",
    "    .round(2)\n",
    ")\n",
    "\n",
    "# Plot bar chart\n",
    "plt.figure(figsize=(6, 4))\n",
    "sns.barplot(x=avg_tip_amt_by_location.index, y=avg_tip_amt_by_location.values)\n",
    "plt.xticks(rotation=45)\n",
    "plt.title('Average Tip Amount (in Thousands UGX) by Gender')\n",
    "plt.xlabel('Location_City')\n",
    "plt.ylabel('Average Tip Amount (Thousands UGX)')\n",
    "plt.grid(axis='y')\n",
    "plt.tight_layout()\n",
    "plt.show()"
   ]
  },
  {
   "cell_type": "markdown",
   "id": "fcdac9fa-ba0e-4ff5-86a4-577f3fe59ccc",
   "metadata": {},
   "source": [
    "# 3. Cross-Tabulations and Group-By"
   ]
  },
  {
   "cell_type": "markdown",
   "id": "36beed4c-cede-4ba2-b500-4c6211be03a6",
   "metadata": {},
   "source": [
    "# Create cross-tabs (e.g., Gender vs. Location, Meal_Type vs. Location)."
   ]
  },
  {
   "cell_type": "code",
   "execution_count": 113,
   "id": "e120adfc-afa0-4b4f-995e-46a4a5e522fc",
   "metadata": {},
   "outputs": [
    {
     "name": "stdout",
     "output_type": "stream",
     "text": [
      "Frequency Matrix: Gender vs Location\n",
      "Location_City    Arua  Entebbe  Gulu  Kampala  Mbarara  Total\n",
      "Gender_Category                                              \n",
      "Female             83       94    63      181       72    493\n",
      "Male               65      107    87      168       80    507\n",
      "Total             148      201   150      349      152   1000\n"
     ]
    }
   ],
   "source": [
    "# Create a cross-tabulation (frequency matrix)\n",
    "gender_location_crosstab = pd.crosstab(\n",
    "    index=df['Gender_Category'],\n",
    "    columns=df['Location_City'],\n",
    "    margins=True,\n",
    "    margins_name='Total'\n",
    ")\n",
    "\n",
    "# Displaying the crosstab\n",
    "print(\"Frequency Matrix: Gender vs Location\")\n",
    "print(gender_location_crosstab)"
   ]
  },
  {
   "cell_type": "code",
   "execution_count": 114,
   "id": "c3d8336c-70a5-48da-ae91-2d904856e596",
   "metadata": {},
   "outputs": [
    {
     "name": "stdout",
     "output_type": "stream",
     "text": [
      "Frequency Matrix: Meal Type vs Location\n",
      "Location_City   Arua  Entebbe  Gulu  Kampala  Mbarara  Total\n",
      "Meal_Type                                                   \n",
      "Kids Meal         14       24    16       28       10     92\n",
      "Non-Vegetarian    62       93    62      152       76    445\n",
      "Special           26       32    33       71       20    182\n",
      "Unknown           16       19    12       29       24    100\n",
      "Vegetarian        30       33    27       69       22    181\n",
      "Total            148      201   150      349      152   1000\n"
     ]
    }
   ],
   "source": [
    "# Create a cross-tabulation (frequency matrix)\n",
    "meal_location_crosstab = pd.crosstab(\n",
    "    index=df['Meal_Type'],\n",
    "    columns=df['Location_City'],\n",
    "    margins=True,\n",
    "    margins_name='Total'\n",
    ")\n",
    "\n",
    "# Displaying the crosstab\n",
    "print(\"Frequency Matrix: Meal Type vs Location\")\n",
    "print(meal_location_crosstab)"
   ]
  },
  {
   "cell_type": "code",
   "execution_count": 115,
   "id": "4138752f-89e1-4d77-9c75-60e968abb850",
   "metadata": {},
   "outputs": [
    {
     "data": {
      "text/html": [
       "<div>\n",
       "<style scoped>\n",
       "    .dataframe tbody tr th:only-of-type {\n",
       "        vertical-align: middle;\n",
       "    }\n",
       "\n",
       "    .dataframe tbody tr th {\n",
       "        vertical-align: top;\n",
       "    }\n",
       "\n",
       "    .dataframe thead th {\n",
       "        text-align: right;\n",
       "    }\n",
       "</style>\n",
       "<table border=\"1\" class=\"dataframe\">\n",
       "  <thead>\n",
       "    <tr style=\"text-align: right;\">\n",
       "      <th>Location_City</th>\n",
       "      <th>Arua</th>\n",
       "      <th>Entebbe</th>\n",
       "      <th>Gulu</th>\n",
       "      <th>Kampala</th>\n",
       "      <th>Mbarara</th>\n",
       "    </tr>\n",
       "    <tr>\n",
       "      <th>Gender_Category</th>\n",
       "      <th></th>\n",
       "      <th></th>\n",
       "      <th></th>\n",
       "      <th></th>\n",
       "      <th></th>\n",
       "    </tr>\n",
       "  </thead>\n",
       "  <tbody>\n",
       "    <tr>\n",
       "      <th>Female</th>\n",
       "      <td>83</td>\n",
       "      <td>94</td>\n",
       "      <td>63</td>\n",
       "      <td>181</td>\n",
       "      <td>72</td>\n",
       "    </tr>\n",
       "    <tr>\n",
       "      <th>Male</th>\n",
       "      <td>65</td>\n",
       "      <td>107</td>\n",
       "      <td>87</td>\n",
       "      <td>168</td>\n",
       "      <td>80</td>\n",
       "    </tr>\n",
       "  </tbody>\n",
       "</table>\n",
       "</div>"
      ],
      "text/plain": [
       "Location_City    Arua  Entebbe  Gulu  Kampala  Mbarara\n",
       "Gender_Category                                       \n",
       "Female             83       94    63      181       72\n",
       "Male               65      107    87      168       80"
      ]
     },
     "execution_count": 115,
     "metadata": {},
     "output_type": "execute_result"
    }
   ],
   "source": [
    "pd.crosstab(df['Gender_Category'], df['Location_City'])\n"
   ]
  },
  {
   "cell_type": "code",
   "execution_count": 116,
   "id": "aa6ade4a-d082-4dc3-b6f6-3cf1aac7f9d2",
   "metadata": {},
   "outputs": [
    {
     "data": {
      "text/html": [
       "<div>\n",
       "<style scoped>\n",
       "    .dataframe tbody tr th:only-of-type {\n",
       "        vertical-align: middle;\n",
       "    }\n",
       "\n",
       "    .dataframe tbody tr th {\n",
       "        vertical-align: top;\n",
       "    }\n",
       "\n",
       "    .dataframe thead th {\n",
       "        text-align: right;\n",
       "    }\n",
       "</style>\n",
       "<table border=\"1\" class=\"dataframe\">\n",
       "  <thead>\n",
       "    <tr style=\"text-align: right;\">\n",
       "      <th>Location_City</th>\n",
       "      <th>Arua</th>\n",
       "      <th>Entebbe</th>\n",
       "      <th>Gulu</th>\n",
       "      <th>Kampala</th>\n",
       "      <th>Mbarara</th>\n",
       "    </tr>\n",
       "    <tr>\n",
       "      <th>Meal_Type</th>\n",
       "      <th></th>\n",
       "      <th></th>\n",
       "      <th></th>\n",
       "      <th></th>\n",
       "      <th></th>\n",
       "    </tr>\n",
       "  </thead>\n",
       "  <tbody>\n",
       "    <tr>\n",
       "      <th>Kids Meal</th>\n",
       "      <td>14</td>\n",
       "      <td>24</td>\n",
       "      <td>16</td>\n",
       "      <td>28</td>\n",
       "      <td>10</td>\n",
       "    </tr>\n",
       "    <tr>\n",
       "      <th>Non-Vegetarian</th>\n",
       "      <td>62</td>\n",
       "      <td>93</td>\n",
       "      <td>62</td>\n",
       "      <td>152</td>\n",
       "      <td>76</td>\n",
       "    </tr>\n",
       "    <tr>\n",
       "      <th>Special</th>\n",
       "      <td>26</td>\n",
       "      <td>32</td>\n",
       "      <td>33</td>\n",
       "      <td>71</td>\n",
       "      <td>20</td>\n",
       "    </tr>\n",
       "    <tr>\n",
       "      <th>Unknown</th>\n",
       "      <td>16</td>\n",
       "      <td>19</td>\n",
       "      <td>12</td>\n",
       "      <td>29</td>\n",
       "      <td>24</td>\n",
       "    </tr>\n",
       "    <tr>\n",
       "      <th>Vegetarian</th>\n",
       "      <td>30</td>\n",
       "      <td>33</td>\n",
       "      <td>27</td>\n",
       "      <td>69</td>\n",
       "      <td>22</td>\n",
       "    </tr>\n",
       "  </tbody>\n",
       "</table>\n",
       "</div>"
      ],
      "text/plain": [
       "Location_City   Arua  Entebbe  Gulu  Kampala  Mbarara\n",
       "Meal_Type                                            \n",
       "Kids Meal         14       24    16       28       10\n",
       "Non-Vegetarian    62       93    62      152       76\n",
       "Special           26       32    33       71       20\n",
       "Unknown           16       19    12       29       24\n",
       "Vegetarian        30       33    27       69       22"
      ]
     },
     "execution_count": 116,
     "metadata": {},
     "output_type": "execute_result"
    }
   ],
   "source": [
    "pd.crosstab(df['Meal_Type'], df['Location_City'])"
   ]
  },
  {
   "cell_type": "markdown",
   "id": "b5279515-f3de-49d3-a8ee-c488481dbdc7",
   "metadata": {},
   "source": [
    "# Group by Location or Gender to compute mean Total_Bill, Tip_Amount."
   ]
  },
  {
   "cell_type": "code",
   "execution_count": 117,
   "id": "f035b56d-eb8a-48d5-9121-bb4a8d7f9bab",
   "metadata": {},
   "outputs": [
    {
     "data": {
      "text/html": [
       "<div>\n",
       "<style scoped>\n",
       "    .dataframe tbody tr th:only-of-type {\n",
       "        vertical-align: middle;\n",
       "    }\n",
       "\n",
       "    .dataframe tbody tr th {\n",
       "        vertical-align: top;\n",
       "    }\n",
       "\n",
       "    .dataframe thead th {\n",
       "        text-align: right;\n",
       "    }\n",
       "</style>\n",
       "<table border=\"1\" class=\"dataframe\">\n",
       "  <thead>\n",
       "    <tr style=\"text-align: right;\">\n",
       "      <th></th>\n",
       "      <th>Total_Bill_Amount(UGX'000)</th>\n",
       "      <th>Tip_Amount(UGX'000)</th>\n",
       "    </tr>\n",
       "    <tr>\n",
       "      <th>Location_City</th>\n",
       "      <th></th>\n",
       "      <th></th>\n",
       "    </tr>\n",
       "  </thead>\n",
       "  <tbody>\n",
       "    <tr>\n",
       "      <th>Arua</th>\n",
       "      <td>219890.84</td>\n",
       "      <td>16629.69</td>\n",
       "    </tr>\n",
       "    <tr>\n",
       "      <th>Entebbe</th>\n",
       "      <td>210966.75</td>\n",
       "      <td>15990.19</td>\n",
       "    </tr>\n",
       "    <tr>\n",
       "      <th>Gulu</th>\n",
       "      <td>243653.36</td>\n",
       "      <td>18264.05</td>\n",
       "    </tr>\n",
       "    <tr>\n",
       "      <th>Kampala</th>\n",
       "      <td>219607.58</td>\n",
       "      <td>16505.60</td>\n",
       "    </tr>\n",
       "    <tr>\n",
       "      <th>Mbarara</th>\n",
       "      <td>212593.55</td>\n",
       "      <td>15952.16</td>\n",
       "    </tr>\n",
       "  </tbody>\n",
       "</table>\n",
       "</div>"
      ],
      "text/plain": [
       "               Total_Bill_Amount(UGX'000)  Tip_Amount(UGX'000)\n",
       "Location_City                                                 \n",
       "Arua                            219890.84             16629.69\n",
       "Entebbe                         210966.75             15990.19\n",
       "Gulu                            243653.36             18264.05\n",
       "Kampala                         219607.58             16505.60\n",
       "Mbarara                         212593.55             15952.16"
      ]
     },
     "execution_count": 117,
     "metadata": {},
     "output_type": "execute_result"
    }
   ],
   "source": [
    "# Group by Location\n",
    "df.groupby('Location_City')[[\"Total_Bill_Amount(UGX'000)\", \"Tip_Amount(UGX'000)\"]].mean()"
   ]
  },
  {
   "cell_type": "code",
   "execution_count": 118,
   "id": "3ea259f2-9bcb-4d34-95d3-b49cf024140c",
   "metadata": {},
   "outputs": [
    {
     "data": {
      "text/html": [
       "<div>\n",
       "<style scoped>\n",
       "    .dataframe tbody tr th:only-of-type {\n",
       "        vertical-align: middle;\n",
       "    }\n",
       "\n",
       "    .dataframe tbody tr th {\n",
       "        vertical-align: top;\n",
       "    }\n",
       "\n",
       "    .dataframe thead th {\n",
       "        text-align: right;\n",
       "    }\n",
       "</style>\n",
       "<table border=\"1\" class=\"dataframe\">\n",
       "  <thead>\n",
       "    <tr style=\"text-align: right;\">\n",
       "      <th></th>\n",
       "      <th>Total_Bill_Amount(UGX'000)</th>\n",
       "      <th>Tip_Amount(UGX'000)</th>\n",
       "    </tr>\n",
       "    <tr>\n",
       "      <th>Gender_Category</th>\n",
       "      <th></th>\n",
       "      <th></th>\n",
       "    </tr>\n",
       "  </thead>\n",
       "  <tbody>\n",
       "    <tr>\n",
       "      <th>Female</th>\n",
       "      <td>220631.25</td>\n",
       "      <td>16548.56</td>\n",
       "    </tr>\n",
       "    <tr>\n",
       "      <th>Male</th>\n",
       "      <td>220280.52</td>\n",
       "      <td>16650.04</td>\n",
       "    </tr>\n",
       "  </tbody>\n",
       "</table>\n",
       "</div>"
      ],
      "text/plain": [
       "                 Total_Bill_Amount(UGX'000)  Tip_Amount(UGX'000)\n",
       "Gender_Category                                                 \n",
       "Female                            220631.25             16548.56\n",
       "Male                              220280.52             16650.04"
      ]
     },
     "execution_count": 118,
     "metadata": {},
     "output_type": "execute_result"
    }
   ],
   "source": [
    "# Group by Gender\n",
    "df.groupby('Gender_Category')[[\"Total_Bill_Amount(UGX'000)\", \"Tip_Amount(UGX'000)\"]].mean()"
   ]
  },
  {
   "cell_type": "code",
   "execution_count": 119,
   "id": "cc0f0f56-eb7d-49f3-9325-d507cc5d7964",
   "metadata": {},
   "outputs": [],
   "source": [
    "# Finding the mean-average, median-middle value, standard deviation and number of people per gender category"
   ]
  },
  {
   "cell_type": "code",
   "execution_count": 120,
   "id": "9487ce5c-105f-46ee-8cf2-530f11b04dfa",
   "metadata": {},
   "outputs": [
    {
     "data": {
      "text/html": [
       "<div>\n",
       "<style scoped>\n",
       "    .dataframe tbody tr th:only-of-type {\n",
       "        vertical-align: middle;\n",
       "    }\n",
       "\n",
       "    .dataframe tbody tr th {\n",
       "        vertical-align: top;\n",
       "    }\n",
       "\n",
       "    .dataframe thead tr th {\n",
       "        text-align: left;\n",
       "    }\n",
       "\n",
       "    .dataframe thead tr:last-of-type th {\n",
       "        text-align: right;\n",
       "    }\n",
       "</style>\n",
       "<table border=\"1\" class=\"dataframe\">\n",
       "  <thead>\n",
       "    <tr>\n",
       "      <th></th>\n",
       "      <th colspan=\"4\" halign=\"left\">Total_Bill_Amount(UGX'000)</th>\n",
       "      <th colspan=\"4\" halign=\"left\">Tip_Amount(UGX'000)</th>\n",
       "    </tr>\n",
       "    <tr>\n",
       "      <th></th>\n",
       "      <th>mean</th>\n",
       "      <th>median</th>\n",
       "      <th>std</th>\n",
       "      <th>count</th>\n",
       "      <th>mean</th>\n",
       "      <th>median</th>\n",
       "      <th>std</th>\n",
       "      <th>count</th>\n",
       "    </tr>\n",
       "    <tr>\n",
       "      <th>Gender_Category</th>\n",
       "      <th></th>\n",
       "      <th></th>\n",
       "      <th></th>\n",
       "      <th></th>\n",
       "      <th></th>\n",
       "      <th></th>\n",
       "      <th></th>\n",
       "      <th></th>\n",
       "    </tr>\n",
       "  </thead>\n",
       "  <tbody>\n",
       "    <tr>\n",
       "      <th>Female</th>\n",
       "      <td>220631.25</td>\n",
       "      <td>200629.07</td>\n",
       "      <td>120925.27</td>\n",
       "      <td>493</td>\n",
       "      <td>16548.56</td>\n",
       "      <td>14781.72</td>\n",
       "      <td>9896.08</td>\n",
       "      <td>493</td>\n",
       "    </tr>\n",
       "    <tr>\n",
       "      <th>Male</th>\n",
       "      <td>220280.52</td>\n",
       "      <td>200629.07</td>\n",
       "      <td>121223.60</td>\n",
       "      <td>507</td>\n",
       "      <td>16650.04</td>\n",
       "      <td>14781.72</td>\n",
       "      <td>9676.63</td>\n",
       "      <td>507</td>\n",
       "    </tr>\n",
       "  </tbody>\n",
       "</table>\n",
       "</div>"
      ],
      "text/plain": [
       "                Total_Bill_Amount(UGX'000)                            \\\n",
       "                                      mean    median       std count   \n",
       "Gender_Category                                                        \n",
       "Female                           220631.25 200629.07 120925.27   493   \n",
       "Male                             220280.52 200629.07 121223.60   507   \n",
       "\n",
       "                Tip_Amount(UGX'000)                         \n",
       "                               mean   median     std count  \n",
       "Gender_Category                                             \n",
       "Female                     16548.56 14781.72 9896.08   493  \n",
       "Male                       16650.04 14781.72 9676.63   507  "
      ]
     },
     "execution_count": 120,
     "metadata": {},
     "output_type": "execute_result"
    }
   ],
   "source": [
    "df.groupby('Gender_Category')[[\"Total_Bill_Amount(UGX'000)\", \"Tip_Amount(UGX'000)\"]].agg(['mean', 'median', 'std', 'count'])\n"
   ]
  },
  {
   "cell_type": "code",
   "execution_count": null,
   "id": "7b81d89a-27c0-4a59-8b82-f011ad2cf485",
   "metadata": {},
   "outputs": [],
   "source": []
  },
  {
   "cell_type": "code",
   "execution_count": null,
   "id": "aa4fee51-aa78-4600-a1a4-e0f292542641",
   "metadata": {},
   "outputs": [],
   "source": []
  },
  {
   "cell_type": "code",
   "execution_count": 121,
   "id": "83f432d1-6439-4780-9a96-dec591ebcd16",
   "metadata": {},
   "outputs": [],
   "source": [
    "# Calculate average balance by location and gender\n",
    "# Group by location and gender the compute mean\n",
    "avarage_total_bill_by_location_gender = df.groupby(['Location_City','Gender_Category'])[\"Total_Bill_Amount(UGX'000)\"].mean().sort_values(ascending=False)"
   ]
  },
  {
   "cell_type": "code",
   "execution_count": 122,
   "id": "b88a9118-7d04-4c15-b0be-e7baeb53fd46",
   "metadata": {},
   "outputs": [
    {
     "name": "stdout",
     "output_type": "stream",
     "text": [
      "Mean of Total Bill by Loacation_Gender\n"
     ]
    },
    {
     "data": {
      "text/plain": [
       "Location_City  Gender_Category\n",
       "Gulu           Male              243933.26\n",
       "               Female            243266.82\n",
       "Arua           Female            226902.00\n",
       "Kampala        Male              222461.63\n",
       "Mbarara        Female            220038.69\n",
       "Kampala        Female            216958.51\n",
       "Entebbe        Male              214056.67\n",
       "Arua           Male              210938.13\n",
       "Entebbe        Female            207449.50\n",
       "Mbarara        Male              205892.92\n",
       "Name: Total_Bill_Amount(UGX'000), dtype: float64"
      ]
     },
     "execution_count": 122,
     "metadata": {},
     "output_type": "execute_result"
    }
   ],
   "source": [
    "print(\"Mean of Total Bill by Loacation_Gender\")\n",
    "avarage_total_bill_by_location_gender"
   ]
  },
  {
   "cell_type": "code",
   "execution_count": 123,
   "id": "9b631c10-024f-4e9d-81d3-e4920c6a58a3",
   "metadata": {},
   "outputs": [
    {
     "name": "stdout",
     "output_type": "stream",
     "text": [
      "Mean of Total Bill by Loacation\n"
     ]
    },
    {
     "data": {
      "text/plain": [
       "Location_City\n",
       "Gulu      243653.36\n",
       "Arua      219890.84\n",
       "Kampala   219607.58\n",
       "Mbarara   212593.55\n",
       "Entebbe   210966.75\n",
       "Name: Total_Bill_Amount(UGX'000), dtype: float64"
      ]
     },
     "execution_count": 123,
     "metadata": {},
     "output_type": "execute_result"
    }
   ],
   "source": [
    "# Calculate average Total Bill by location\n",
    "# Group by location the compute mean\n",
    "avarage_total_bill_by_location = df.groupby(['Location_City'])[\"Total_Bill_Amount(UGX'000)\"].mean().sort_values(ascending=False)\n",
    "print(\"Mean of Total Bill by Loacation\")\n",
    "avarage_total_bill_by_location\n"
   ]
  },
  {
   "cell_type": "code",
   "execution_count": 124,
   "id": "cbbff3d6-d57a-42e0-8bea-114fe0261e98",
   "metadata": {},
   "outputs": [
    {
     "name": "stdout",
     "output_type": "stream",
     "text": [
      "Mean of Total Bill by Gender\n"
     ]
    },
    {
     "data": {
      "text/plain": [
       "Gender_Category\n",
       "Female   220631.25\n",
       "Male     220280.52\n",
       "Name: Total_Bill_Amount(UGX'000), dtype: float64"
      ]
     },
     "execution_count": 124,
     "metadata": {},
     "output_type": "execute_result"
    }
   ],
   "source": [
    "# Calculate average Total Bill by gender\n",
    "# Group by gender the compute mean\n",
    "avarage_total_bill_by_gender = df.groupby(['Gender_Category'])[\"Total_Bill_Amount(UGX'000)\"].mean().sort_values(ascending=False)\n",
    "print(\"Mean of Total Bill by Gender\")\n",
    "avarage_total_bill_by_gender"
   ]
  },
  {
   "cell_type": "markdown",
   "id": "7b6c0a06-cc14-4590-a788-1164164d707a",
   "metadata": {},
   "source": [
    "# Visualize with stacked bar charts or heatmaps."
   ]
  },
  {
   "cell_type": "code",
   "execution_count": 125,
   "id": "e9749809-df7b-4ddc-be2b-cc1fcc1dc403",
   "metadata": {},
   "outputs": [
    {
     "data": {
      "text/plain": [
       "Text(0.5, 1.0, 'Crosstabulation of Gender vs Location')"
      ]
     },
     "execution_count": 125,
     "metadata": {},
     "output_type": "execute_result"
    },
    {
     "data": {
      "image/png": "[encoded data removed]",
      "text/plain": [
       "<Figure size 600x500 with 2 Axes>"
      ]
     },
     "metadata": {},
     "output_type": "display_data"
    }
   ],
   "source": [
    "plt.figure(figsize=(6,5))\n",
    "sns.heatmap(gender_location_crosstab,annot=True)\n",
    "plt.title('Crosstabulation of Gender vs Location')"
   ]
  },
  {
   "cell_type": "code",
   "execution_count": 127,
   "id": "74f35d64-2360-448e-8a23-bce194998076",
   "metadata": {},
   "outputs": [
    {
     "data": {
      "text/plain": [
       "Text(0.5, 1.0, 'Crosstabulation of Meal Type vs Location')"
      ]
     },
     "execution_count": 127,
     "metadata": {},
     "output_type": "execute_result"
    },
    {
     "data": {
      "image/png": "[encoded data removed]",
      "text/plain": [
       "<Figure size 600x500 with 2 Axes>"
      ]
     },
     "metadata": {},
     "output_type": "display_data"
    }
   ],
   "source": [
    "plt.figure(figsize=(6,5))\n",
    "sns.heatmap(meal_location_crosstab,annot=True)\n",
    "plt.title('Crosstabulation of Meal Type vs Location')"
   ]
  },
  {
   "cell_type": "markdown",
   "id": "c05bc8d0-bc32-476f-a2ed-f7e779c7a43d",
   "metadata": {},
   "source": [
    "# 4. Hypothesis Testing"
   ]
  },
  {
   "cell_type": "markdown",
   "id": "18362e21-52ee-4387-956f-30902d519a6c",
   "metadata": {},
   "source": [
    "# One-Sample t-Test: Test if average Total_Bill equals 200,000 UGX"
   ]
  },
  {
   "cell_type": "markdown",
   "id": "248e6f48-c53c-474a-b4fa-e8263736ba1b",
   "metadata": {},
   "source": [
    "# Step1: creating the male and female variables"
   ]
  },
  {
   "cell_type": "code",
   "execution_count": 128,
   "id": "ee3efe2a-7280-4f25-8255-8baee0261693",
   "metadata": {},
   "outputs": [],
   "source": [
    "import scipy.stats as stats\n",
    "from scipy import stats"
   ]
  },
  {
   "cell_type": "code",
   "execution_count": 129,
   "id": "6071a619-3aff-411e-976e-a28647dfa011",
   "metadata": {},
   "outputs": [],
   "source": [
    "# Step1: creating the male and female variables\n",
    "var_males =df[df['Gender_Category'] == 'Male']['Tip_Amount(UGX)']\n",
    "var_females =df[df['Gender_Category'] == 'Female']['Tip_Amount(UGX)']"
   ]
  },
  {
   "cell_type": "code",
   "execution_count": 130,
   "id": "642c52ae-4871-47d2-b94b-f087118cd48f",
   "metadata": {},
   "outputs": [
    {
     "name": "stdout",
     "output_type": "stream",
     "text": [
      "The male tip_amount are 0     14875556.00\n",
      "1     10245458.00\n",
      "2     22485573.00\n",
      "3     36323236.00\n",
      "7     22485118.00\n",
      "          ...    \n",
      "992   13018143.00\n",
      "993    8453535.00\n",
      "994    9702863.00\n",
      "996   14781722.50\n",
      "999   13335620.00\n",
      "Name: Tip_Amount(UGX), Length: 507, dtype: float64\n",
      "The female tip_amount are 0     14875556.00\n",
      "1     10245458.00\n",
      "2     22485573.00\n",
      "3     36323236.00\n",
      "7     22485118.00\n",
      "          ...    \n",
      "992   13018143.00\n",
      "993    8453535.00\n",
      "994    9702863.00\n",
      "996   14781722.50\n",
      "999   13335620.00\n",
      "Name: Tip_Amount(UGX), Length: 507, dtype: float64\n"
     ]
    }
   ],
   "source": [
    "print(f\"The male tip_amount are {var_males}\")\n",
    "print(f\"The female tip_amount are {var_males}\")"
   ]
  },
  {
   "cell_type": "markdown",
   "id": "f72c713a-5873-457e-abf6-6327739b229e",
   "metadata": {},
   "source": [
    "# Step 2: Test the hypothesis"
   ]
  },
  {
   "cell_type": "code",
   "execution_count": 131,
   "id": "a599cade-087d-46fd-930d-f095c5fb9caa",
   "metadata": {},
   "outputs": [],
   "source": [
    "# Step2: testing the hypothesis using levene's test\n",
    "statistics,p = stats.levene(var_males,var_females,center='median')"
   ]
  },
  {
   "cell_type": "markdown",
   "id": "9cde5646-510d-48ab-9e29-64f2ff030cab",
   "metadata": {},
   "source": [
    "# Automate the \"P\" result print out"
   ]
  },
  {
   "cell_type": "code",
   "execution_count": 132,
   "id": "5c43e106-e330-4f33-af4f-7421036893b4",
   "metadata": {},
   "outputs": [
    {
     "name": "stdout",
     "output_type": "stream",
     "text": [
      "We accept the null hypothesis, since the P value of 0.66 is higher than 0.05. The data is normally distributed\n"
     ]
    }
   ],
   "source": [
    "if p > 0.05:\n",
    "    print(f\"We accept the null hypothesis, since the P value of {round(p,2)} is higher than 0.05. The data is normally distributed\")\n",
    "else:\n",
    "    print(f\"We reject the null hypothesis becuase our p value of {round(p,2)} is less than 0.05. The data is not normally distributed\")"
   ]
  },
  {
   "cell_type": "code",
   "execution_count": 133,
   "id": "1f001329-5f94-46b3-9601-21ec44511a07",
   "metadata": {},
   "outputs": [],
   "source": [
    "# Given that the P value is higher than 0.05 and our data is normally distributed, we accept then null hypothesis."
   ]
  },
  {
   "cell_type": "markdown",
   "id": "644603dd-1938-4251-8f58-d7ce81210421",
   "metadata": {},
   "source": [
    "# Step3: Generate individual means for each gender category"
   ]
  },
  {
   "cell_type": "code",
   "execution_count": 134,
   "id": "a4c769b7-6b89-45fd-8846-ecfd0c81c126",
   "metadata": {},
   "outputs": [],
   "source": [
    "# Step3: Generating individual means\n",
    "\n",
    "# males mean\n",
    "males_mean = var_males.mean() \n",
    "\n",
    "# females mean\n",
    "females_mean = var_females.mean()"
   ]
  },
  {
   "cell_type": "code",
   "execution_count": 135,
   "id": "62a7b008-8b00-47cc-bf87-11f1289a809f",
   "metadata": {},
   "outputs": [
    {
     "name": "stdout",
     "output_type": "stream",
     "text": [
      "The mean for males is 16650041.267258383\n",
      "The mean females is 16548564.743407708\n"
     ]
    }
   ],
   "source": [
    "print(f\"The mean for males is {males_mean}\")\n",
    "print(f\"The mean females is {females_mean}\")"
   ]
  },
  {
   "cell_type": "markdown",
   "id": "fa288aea-5145-4d58-b144-e139452d0238",
   "metadata": {},
   "source": [
    "# Conclusion"
   ]
  },
  {
   "cell_type": "code",
   "execution_count": 136,
   "id": "bf3a7c45-7499-4b99-9cfc-164e46dfdc10",
   "metadata": {},
   "outputs": [],
   "source": [
    "# Conclusion\n",
    "# It has been discovered that men tip more than women do, with an average tip of 16650041.267258383 versus 16548564.743407708 for women.\n",
    "# Nonetheless, there is not much of a tipping difference between the two categories."
   ]
  },
  {
   "cell_type": "markdown",
   "id": "3cc18c81-93cf-4744-9fee-5f611038bfc6",
   "metadata": {},
   "source": [
    "# Paired t-Test: Compare Total_Bill vs. Tip_Amount for paired observations."
   ]
  },
  {
   "cell_type": "code",
   "execution_count": 137,
   "id": "2b359baf-094c-4251-9ec5-4a5401e731f2",
   "metadata": {},
   "outputs": [
    {
     "name": "stdout",
     "output_type": "stream",
     "text": [
      "Paired Samples T-Test for total_bill vs tip_amount: Statistic=57.5944, p-value=0.0000\n"
     ]
    }
   ],
   "source": [
    "# Paired samples t-test\n",
    "t_stat, t_p = stats.ttest_rel(df['Total_Bill_Amount(UGX)'], df['Tip_Amount(UGX)'])\n",
    "print(f\"Paired Samples T-Test for total_bill vs tip_amount: Statistic={t_stat:.4f}, p-value={t_p:.4f}\")"
   ]
  },
  {
   "cell_type": "code",
   "execution_count": 138,
   "id": "b724aca5-911a-4b72-b8ce-335b3086cc39",
   "metadata": {},
   "outputs": [
    {
     "name": "stdout",
     "output_type": "stream",
     "text": [
      "Reject the null hypothesis: Significant difference between Total_Bill and Tip_Amount.\n"
     ]
    }
   ],
   "source": [
    "# Optional: Interpret results\n",
    "alpha = 0.05\n",
    "if t_p < alpha:\n",
    "    print(\"Reject the null hypothesis: Significant difference between Total_Bill and Tip_Amount.\")\n",
    "else:\n",
    "    print(\"Fail to reject the null hypothesis: No significant difference.\")"
   ]
  },
  {
   "cell_type": "code",
   "execution_count": null,
   "id": "d9ce5429-f6df-41c0-9675-adeb6f84f1dd",
   "metadata": {},
   "outputs": [],
   "source": []
  },
  {
   "cell_type": "code",
   "execution_count": 139,
   "id": "457da00c-e397-4507-862b-d14f784d1e00",
   "metadata": {},
   "outputs": [
    {
     "name": "stdout",
     "output_type": "stream",
     "text": [
      "Wilcoxon Signed-Rank Test for total_bill vs tip_amount: Statistic=0.0000, p-value=0.0000\n"
     ]
    }
   ],
   "source": [
    "# Wilcoxon signed-rank test for paired samples\n",
    "w_stat, w_p = stats.wilcoxon(df['Total_Bill_Amount(UGX)'], df['Tip_Amount(UGX)'])\n",
    "print(f\"Wilcoxon Signed-Rank Test for total_bill vs tip_amount: Statistic={w_stat:.4f}, p-value={w_p:.4f}\")"
   ]
  },
  {
   "cell_type": "code",
   "execution_count": 140,
   "id": "d25be875-3e76-4962-b997-1d2629cce413",
   "metadata": {},
   "outputs": [],
   "source": [
    "# T-Test: If p-value < 0.05, the mean difference between total_bill and tip_amount is significant. If p-value ≥ 0.05, it’s not significant."
   ]
  },
  {
   "cell_type": "code",
   "execution_count": 141,
   "id": "a4833fdd-ab9a-4b51-847e-22e7a54ab962",
   "metadata": {},
   "outputs": [],
   "source": [
    "# Wilcoxon: If p-value < 0.05, the median difference between total_bill and tip_amount is significant. If p-value ≥ 0.05, it’s not significant.\n",
    "# Since differences may not be normal, the Wilcoxon result is more reliable."
   ]
  },
  {
   "cell_type": "code",
   "execution_count": null,
   "id": "97154ee1-e3f7-49ba-bd3d-025be903d134",
   "metadata": {},
   "outputs": [],
   "source": []
  },
  {
   "cell_type": "code",
   "execution_count": 142,
   "id": "625c557d-2bca-45cf-a9e6-8a13f0d0bc07",
   "metadata": {},
   "outputs": [
    {
     "name": "stdout",
     "output_type": "stream",
     "text": [
      "T-statistic: 57.5944\n",
      "P-value: 0.0000\n",
      "Reject the null hypothesis: Significant difference between Total_Bill and Tip_Amount.\n"
     ]
    }
   ],
   "source": [
    "import pandas as pd\n",
    "from scipy import stats\n",
    "\n",
    "# Step 1: Calculate the difference\n",
    "diff = df['Total_Bill_Amount(UGX)'] - df['Tip_Amount(UGX)']\n",
    "\n",
    "# Step 2: Perform the paired t-test\n",
    "t_statistic, p_value = stats.ttest_rel(df['Total_Bill_Amount(UGX)'], df['Tip_Amount(UGX)'])\n",
    "\n",
    "# Step 3: Print the result\n",
    "print(f\"T-statistic: {t_statistic:.4f}\")\n",
    "print(f\"P-value: {p_value:.4f}\")\n",
    "\n",
    "# Optional: Interpret results\n",
    "alpha = 0.05\n",
    "if p_value < alpha:\n",
    "    print(\"Reject the null hypothesis: Significant difference between Total_Bill and Tip_Amount.\")\n",
    "else:\n",
    "    print(\"Fail to reject the null hypothesis: No significant difference.\")"
   ]
  },
  {
   "cell_type": "code",
   "execution_count": 143,
   "id": "4253211a-0b89-47a3-86ff-944d55cf63de",
   "metadata": {},
   "outputs": [
    {
     "data": {
      "image/png": "[encoded data removed]",
      "text/plain": [
       "<Figure size 640x480 with 1 Axes>"
      ]
     },
     "metadata": {},
     "output_type": "display_data"
    }
   ],
   "source": [
    "import matplotlib.pyplot as plt\n",
    "import seaborn as sns\n",
    "\n",
    "sns.histplot(diff, kde=True)\n",
    "plt.title('Distribution of Paired Differences')\n",
    "plt.show()"
   ]
  },
  {
   "cell_type": "code",
   "execution_count": null,
   "id": "776823e6-2b69-4b5f-bf67-106ffbd2f84b",
   "metadata": {},
   "outputs": [],
   "source": []
  },
  {
   "cell_type": "code",
   "execution_count": null,
   "id": "42497a0b-6ca1-4020-8714-13e6b19b16e4",
   "metadata": {},
   "outputs": [],
   "source": []
  },
  {
   "cell_type": "code",
   "execution_count": null,
   "id": "05083348-7532-4c27-a9eb-c70004a2bd46",
   "metadata": {},
   "outputs": [],
   "source": []
  },
  {
   "cell_type": "markdown",
   "id": "13f1a190-fb55-4d91-ae21-b8659cd10aed",
   "metadata": {},
   "source": [
    "# Independent t-Test: Compare Total_Bill between Males and Females."
   ]
  },
  {
   "cell_type": "code",
   "execution_count": 144,
   "id": "426c8c44-e76c-46fd-9728-c5347a8370a8",
   "metadata": {},
   "outputs": [
    {
     "name": "stdout",
     "output_type": "stream",
     "text": [
      "T-statistic: -0.0458\n",
      "P-value: 0.9635\n",
      "Fail to reject the null hypothesis: No significant difference.\n"
     ]
    }
   ],
   "source": [
    "import pandas as pd\n",
    "from scipy import stats\n",
    "\n",
    "# Step 1: Separate the groups\n",
    "male_bills = df[df['Gender_Category'] == 'Male']['Total_Bill_Amount(UGX)']\n",
    "female_bills = df[df['Gender_Category'] == 'Female']['Total_Bill_Amount(UGX)']\n",
    "\n",
    "# Step 2: Perform independent t-test (Welch’s t-test by default)\n",
    "t_statistic, p_value = stats.ttest_ind(male_bills, female_bills, equal_var=False)\n",
    "\n",
    "# Step 3: Print the result\n",
    "print(f\"T-statistic: {t_statistic:.4f}\")\n",
    "print(f\"P-value: {p_value:.4f}\")\n",
    "\n",
    "# Optional interpretation\n",
    "alpha = 0.05\n",
    "if p_value < alpha:\n",
    "    print(\"Reject the null hypothesis: Significant difference in Total_Bill between Males and Females.\")\n",
    "else:\n",
    "    print(\"Fail to reject the null hypothesis: No significant difference.\")\n"
   ]
  },
  {
   "cell_type": "code",
   "execution_count": 145,
   "id": "0b0a6ff4-963a-405a-93b0-8df0b0c20e78",
   "metadata": {},
   "outputs": [
    {
     "data": {
      "text/plain": [
       "ShapiroResult(statistic=0.8947752825696356, pvalue=6.849536938568759e-18)"
      ]
     },
     "execution_count": 145,
     "metadata": {},
     "output_type": "execute_result"
    }
   ],
   "source": [
    "# Test for normality: (Shapiro-Wilk)\n",
    "stats.shapiro(male_bills)\n",
    "stats.shapiro(female_bills)"
   ]
  },
  {
   "cell_type": "code",
   "execution_count": 146,
   "id": "1aa5c8bb-efdc-4f6a-918f-34e351860ffc",
   "metadata": {},
   "outputs": [
    {
     "data": {
      "text/plain": [
       "LeveneResult(statistic=0.3149399287983815, pvalue=0.5747905322322504)"
      ]
     },
     "execution_count": 146,
     "metadata": {},
     "output_type": "execute_result"
    }
   ],
   "source": [
    "# Test for equal variances (Levene’s test)\n",
    "stats.levene(male_bills, female_bills)"
   ]
  },
  {
   "cell_type": "code",
   "execution_count": 147,
   "id": "6d9f2ab6-6c53-4d23-b7cd-01ab7efc4e25",
   "metadata": {},
   "outputs": [],
   "source": [
    "# If p < 0.05 in Levene’s test, variances are unequal → use equal_var=False (Welch’s t-test).\n",
    "\n",
    "# If p ≥ 0.05, variances can be assumed equal → set equal_var=True."
   ]
  },
  {
   "cell_type": "markdown",
   "id": "3d46a8d7-bf52-4175-b8b4-0b992b06f8e7",
   "metadata": {},
   "source": [
    "# ANOVA: Test if Total_Bill differs across Location (5 cities)."
   ]
  },
  {
   "cell_type": "code",
   "execution_count": 148,
   "id": "b90481e4-19a6-47b8-9b91-72f3924ab62d",
   "metadata": {},
   "outputs": [
    {
     "name": "stdout",
     "output_type": "stream",
     "text": [
      "F-statistic: 1.8587\n",
      "P-value: 0.1155\n",
      "Fail to reject the null hypothesis: No significant difference in means across cities.\n"
     ]
    }
   ],
   "source": [
    "import pandas as pd\n",
    "from scipy import stats\n",
    "\n",
    "# Step 1: Separate Total_Bill by Location\n",
    "groups = [group['Total_Bill_Amount(UGX)'].values for name, group in df.groupby('Location_City')]\n",
    "\n",
    "# Step 2: Perform one-way ANOVA\n",
    "f_statistic, p_value = stats.f_oneway(*groups)\n",
    "\n",
    "# Step 3: Output results\n",
    "print(f\"F-statistic: {f_statistic:.4f}\")\n",
    "print(f\"P-value: {p_value:.4f}\")\n",
    "\n",
    "# Optional interpretation\n",
    "alpha = 0.05\n",
    "if p_value < alpha:\n",
    "    print(\"Reject the null hypothesis: At least one city's mean Total_Bill is significantly different.\")\n",
    "else:\n",
    "    print(\"Fail to reject the null hypothesis: No significant difference in means across cities.\")"
   ]
  },
  {
   "cell_type": "code",
   "execution_count": 149,
   "id": "e95dff05-2984-42e2-a3a4-cf151c2c54de",
   "metadata": {},
   "outputs": [
    {
     "name": "stdout",
     "output_type": "stream",
     "text": [
      "           Multiple Comparison of Means - Tukey HSD, FWER=0.05           \n",
      "=========================================================================\n",
      " group1  group2    meandiff    p-adj      lower          upper     reject\n",
      "-------------------------------------------------------------------------\n",
      "   Arua Entebbe  -8924083.9925 0.9604 -44683242.0437 26835074.0587  False\n",
      "   Arua    Gulu  23762519.4313 0.4358 -14487803.1882 62012842.0507  False\n",
      "   Arua Kampala   -283260.8729    1.0 -32667826.8468 32101305.1011  False\n",
      "   Arua Mbarara  -7297292.7883  0.985 -45422431.5827 30827846.0062  False\n",
      "Entebbe    Gulu  32686603.4237 0.0897  -2934991.2553 68308198.1028  False\n",
      "Entebbe Kampala   8640823.1196 0.9283 -20592222.2282 37873868.4675  False\n",
      "Entebbe Mbarara   1626791.2042 0.9999 -33860347.8054 37113930.2139  False\n",
      "   Gulu Kampala -24045780.3041 0.2483 -56278383.9264  8186823.3182  False\n",
      "   Gulu Mbarara -31059812.2195 0.1681 -69055954.5375  6936330.0985  False\n",
      "Kampala Mbarara  -7014031.9154 0.9755 -39097980.6106 25069916.7798  False\n",
      "-------------------------------------------------------------------------\n"
     ]
    }
   ],
   "source": [
    "from statsmodels.stats.multicomp import pairwise_tukeyhsd\n",
    "\n",
    "tukey = pairwise_tukeyhsd(endog=df['Total_Bill_Amount(UGX)'], groups=df['Location_City'], alpha=0.05)\n",
    "print(tukey)\n"
   ]
  },
  {
   "cell_type": "code",
   "execution_count": null,
   "id": "a5e1b6f3-a9f3-4dcb-adcd-c1a6fc2f9e72",
   "metadata": {},
   "outputs": [],
   "source": []
  },
  {
   "cell_type": "markdown",
   "id": "99f70d81-eaab-4eea-929b-cb0d53053f82",
   "metadata": {},
   "source": [
    "# Chi-Squared Test: Test if Gender and Location are independent."
   ]
  },
  {
   "cell_type": "code",
   "execution_count": 150,
   "id": "8d876cca-c0fb-478a-8a81-7e4d54283d0d",
   "metadata": {},
   "outputs": [
    {
     "name": "stdout",
     "output_type": "stream",
     "text": [
      "Chi-squared Statistic: 7.5807643581619235\n",
      "Degrees of Freedom: 4\n",
      "P-value: 0.10820020867399811\n",
      "Fail to reject the null hypothesis: Gender and Location are independent.\n"
     ]
    }
   ],
   "source": [
    "import pandas as pd\n",
    "from scipy.stats import chi2_contingency\n",
    "\n",
    "# Step 1: Create a contingency table\n",
    "contingency_table = pd.crosstab(df['Gender_Category'], df['Location_City'])\n",
    "\n",
    "# Step 2: Perform chi-squared test\n",
    "chi2_stat, p_value, dof, expected = chi2_contingency(contingency_table)\n",
    "\n",
    "# Step 3: Print the result\n",
    "print(\"Chi-squared Statistic:\", chi2_stat)\n",
    "print(\"Degrees of Freedom:\", dof)\n",
    "print(\"P-value:\", p_value)\n",
    "\n",
    "# Optional interpretation\n",
    "alpha = 0.05\n",
    "if p_value < alpha:\n",
    "    print(\"Reject the null hypothesis: Gender and Location are not independent.\")\n",
    "else:\n",
    "    print(\"Fail to reject the null hypothesis: Gender and Location are independent.\")\n"
   ]
  },
  {
   "cell_type": "code",
   "execution_count": 151,
   "id": "d7b218c4-de67-4d4d-bb10-2b3417d7588f",
   "metadata": {},
   "outputs": [
    {
     "name": "stdout",
     "output_type": "stream",
     "text": [
      "Expected Frequencies:\n",
      " Location_City    Arua  Entebbe  Gulu  Kampala  Mbarara\n",
      "Gender_Category                                       \n",
      "Female          72.96    99.09 73.95   172.06    74.94\n",
      "Male            75.04   101.91 76.05   176.94    77.06\n"
     ]
    }
   ],
   "source": [
    "expected_df = pd.DataFrame(expected, index=contingency_table.index, columns=contingency_table.columns)\n",
    "print(\"Expected Frequencies:\\n\", expected_df)\n"
   ]
  },
  {
   "cell_type": "code",
   "execution_count": 152,
   "id": "929bc4d6-f598-48b2-9bd1-3ce605e9c10f",
   "metadata": {},
   "outputs": [
    {
     "data": {
      "image/png": "[encoded data removed]",
      "text/plain": [
       "<Figure size 640x480 with 2 Axes>"
      ]
     },
     "metadata": {},
     "output_type": "display_data"
    }
   ],
   "source": [
    "import seaborn as sns\n",
    "import matplotlib.pyplot as plt\n",
    "\n",
    "sns.heatmap(contingency_table, annot=True, fmt='d', cmap='YlGnBu')\n",
    "plt.title(\"Observed Frequencies of Gender by Location\")\n",
    "plt.show()"
   ]
  },
  {
   "cell_type": "markdown",
   "id": "654c3546-e2fe-4add-a13b-1ad59a42ade3",
   "metadata": {},
   "source": [
    "# Check assumptions (normality via Shapiro-Wilk, equal variances via Levene’s)."
   ]
  },
  {
   "cell_type": "code",
   "execution_count": 153,
   "id": "a1b91c47-f597-4b01-8ac8-ad78588fb1a8",
   "metadata": {},
   "outputs": [],
   "source": [
    "# This checks if a sample comes from a normal distribution."
   ]
  },
  {
   "cell_type": "code",
   "execution_count": 154,
   "id": "0685bff6-5004-458f-9be7-252fd241f43a",
   "metadata": {},
   "outputs": [
    {
     "name": "stdout",
     "output_type": "stream",
     "text": [
      "Shapiro-Wilk Test Statistic: 0.8694\n",
      "P-value: 0.0000\n",
      "Data is NOT normally distributed (reject H0).\n"
     ]
    }
   ],
   "source": [
    "from scipy.stats import shapiro\n",
    "\n",
    "# Example for a group\n",
    "stat, p_value = shapiro(df['Total_Bill_Amount(UGX)'])\n",
    "\n",
    "print(f\"Shapiro-Wilk Test Statistic: {stat:.4f}\")\n",
    "print(f\"P-value: {p_value:.4f}\")\n",
    "\n",
    "if p_value < 0.05:\n",
    "    print(\"Data is NOT normally distributed (reject H0).\")\n",
    "else:\n",
    "    print(\"Data is normally distributed (fail to reject H0).\")\n"
   ]
  },
  {
   "cell_type": "code",
   "execution_count": 155,
   "id": "4e1e7496-2bd1-4fc4-8a33-0eba7a5e9eec",
   "metadata": {},
   "outputs": [],
   "source": [
    "# For each group (e.g., Male vs Female):"
   ]
  },
  {
   "cell_type": "code",
   "execution_count": 156,
   "id": "054d4b6b-540e-4370-a5db-ae88b1317792",
   "metadata": {},
   "outputs": [
    {
     "name": "stdout",
     "output_type": "stream",
     "text": [
      "Male:\n",
      "ShapiroResult(statistic=0.8410722715060455, pvalue=3.961136464394059e-22)\n",
      "\n",
      "Female:\n",
      "ShapiroResult(statistic=0.8947752825696356, pvalue=6.849536938568759e-18)\n"
     ]
    }
   ],
   "source": [
    "male_bills = df[df['Gender_Category'] == 'Male']['Total_Bill_Amount(UGX)']\n",
    "female_bills = df[df['Gender_Category'] == 'Female']['Total_Bill_Amount(UGX)']\n",
    "\n",
    "print(\"Male:\")\n",
    "print(shapiro(male_bills))\n",
    "\n",
    "print(\"\\nFemale:\")\n",
    "print(shapiro(female_bills))\n"
   ]
  },
  {
   "cell_type": "code",
   "execution_count": 157,
   "id": "354acdeb-fcf0-45bb-bab4-6c42f41427c3",
   "metadata": {},
   "outputs": [],
   "source": [
    "# This checks if the variances across groups are equal (homogeneity of variance)."
   ]
  },
  {
   "cell_type": "code",
   "execution_count": 158,
   "id": "3c98e7a5-5772-4bf4-b692-ba09af54511c",
   "metadata": {},
   "outputs": [
    {
     "name": "stdout",
     "output_type": "stream",
     "text": [
      "Levene’s Test Statistic: 0.3149\n",
      "P-value: 0.5748\n",
      "Variances are equal (fail to reject H0).\n"
     ]
    }
   ],
   "source": [
    "from scipy.stats import levene\n",
    "\n",
    "# Example for Gender groups\n",
    "stat, p_value = levene(male_bills, female_bills)\n",
    "\n",
    "print(f\"Levene’s Test Statistic: {stat:.4f}\")\n",
    "print(f\"P-value: {p_value:.4f}\")\n",
    "\n",
    "if p_value < 0.05:\n",
    "    print(\"Variances are NOT equal (reject H0).\")\n",
    "else:\n",
    "    print(\"Variances are equal (fail to reject H0).\")\n"
   ]
  },
  {
   "cell_type": "code",
   "execution_count": null,
   "id": "79cc4ff9-e0e0-440d-80d1-03cdf8837c7a",
   "metadata": {},
   "outputs": [],
   "source": []
  },
  {
   "cell_type": "markdown",
   "id": "b0ceec8c-eb41-45c5-8004-428adef5b218",
   "metadata": {},
   "source": [
    "# 5. Presentations"
   ]
  },
  {
   "cell_type": "code",
   "execution_count": null,
   "id": "1a81efa9-0827-45a7-8e89-e53e49831bdb",
   "metadata": {},
   "outputs": [],
   "source": []
  },
  {
   "cell_type": "code",
   "execution_count": null,
   "id": "ab2fa32b-8a6a-4c1b-9bc6-d3b874e729e4",
   "metadata": {},
   "outputs": [],
   "source": []
  }
 ],
 "metadata": {
  "kernelspec": {
   "display_name": "Python 3 (ipykernel)",
   "language": "python",
   "name": "python3"
  },
  "language_info": {
   "codemirror_mode": {
    "name": "ipython",
    "version": 3
   },
   "file_extension": ".py",
   "mimetype": "text/x-python",
   "name": "python",
   "nbconvert_exporter": "python",
   "pygments_lexer": "ipython3",
   "version": "3.12.7"
  }
 },
 "nbformat": 4,
 "nbformat_minor": 5
}
